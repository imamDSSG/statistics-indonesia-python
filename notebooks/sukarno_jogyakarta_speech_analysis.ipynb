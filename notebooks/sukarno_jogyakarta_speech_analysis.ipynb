{
 "cells": [
  {
   "cell_type": "code",
   "execution_count": 1,
   "metadata": {
    "collapsed": false
   },
   "outputs": [
    {
     "name": "stderr",
     "output_type": "stream",
     "text": [
      "[INFO] graphlab.cython.cy_server: GraphLab Create v2.1 started. Logging: /tmp/graphlab_server_1470084091.log\n"
     ]
    },
    {
     "name": "stdout",
     "output_type": "stream",
     "text": [
      "This non-commercial license of GraphLab Create for academic use is assigned to kpolimis@u.washington.edu and will expire on July 29, 2017.\n"
     ]
    }
   ],
   "source": [
    "import os\n",
    "import re\n",
    "import pdfkit\n",
    "import urllib2\n",
    "import pandas as pd\n",
    "import graphlab as gl\n",
    "import requests\n",
    "from bs4 import BeautifulSoup\n",
    "from bps_utils import get_Sukarno_Bandung_speech, convert_pdf_to_txt"
   ]
  },
  {
   "cell_type": "code",
   "execution_count": 2,
   "metadata": {
    "collapsed": true
   },
   "outputs": [],
   "source": [
    "os.chdir('../data/')"
   ]
  },
  {
   "cell_type": "markdown",
   "metadata": {},
   "source": [
    "## Get President Sukarno's Jogjakarta Speech\n",
    "* [19th December 1961](http://papuaweb.org/goi/pidato/1961-12-jogyakarta.html)  \n",
    "  Jogjakarta, Indonesia"
   ]
  },
  {
   "cell_type": "markdown",
   "metadata": {},
   "source": [
    "* Chris Albon tutorial on [beautiful soup](http://chrisalbon.com/python/beautiful_soup_html_basics.html)"
   ]
  },
  {
   "cell_type": "code",
   "execution_count": 3,
   "metadata": {
    "collapsed": false
   },
   "outputs": [],
   "source": [
    "# Create a variable with the url\n",
    "url = 'http://papuaweb.org/goi/pidato/1961-12-jogyakarta.html'\n",
    "\n",
    "# Use requests to get the contents\n",
    "r = requests.get(url)\n",
    "\n",
    "# Get the text of the contents\n",
    "html_content = r.text\n",
    "\n",
    "# Convert the html content into a beautiful soup object\n",
    "soup = BeautifulSoup(html_content, 'lxml')"
   ]
  },
  {
   "cell_type": "code",
   "execution_count": 4,
   "metadata": {
    "collapsed": false
   },
   "outputs": [],
   "source": [
    "sukarno_jogyakarta_speech = soup.get_text().replace('\\n\\n','')\n",
    "sukarno_jogyakarta_speech = sukarno_jogyakarta_speech.replace('\\r\\n', \" \")"
   ]
  },
  {
   "cell_type": "markdown",
   "metadata": {},
   "source": [
    "* subset the speech to remove citation material in document heading and ending"
   ]
  },
  {
   "cell_type": "code",
   "execution_count": 5,
   "metadata": {
    "collapsed": false
   },
   "outputs": [],
   "source": [
    "sukarno_jogyakarta_speech = sukarno_jogyakarta_speech[708:len(sukarno_jogyakarta_speech)-66]"
   ]
  },
  {
   "cell_type": "markdown",
   "metadata": {},
   "source": [
    "* save the speech to a text file "
   ]
  },
  {
   "cell_type": "code",
   "execution_count": 6,
   "metadata": {
    "collapsed": true
   },
   "outputs": [],
   "source": [
    "f = open('sukarno_jogjakarta_speech.txt', 'w')\n",
    "f.write(sukarno_jogyakarta_speech.encode('utf8'))\n",
    "f.close()"
   ]
  },
  {
   "cell_type": "code",
   "execution_count": 7,
   "metadata": {
    "collapsed": false
   },
   "outputs": [],
   "source": [
    "#need wkhtmltox to work\n",
    "#pdfkit.from_url('http://papuaweb.org/goi/pidato/1961-12-jogyakarta.html', 'sukarno_jogjakarta_speech.pdf')"
   ]
  },
  {
   "cell_type": "markdown",
   "metadata": {},
   "source": [
    "* Convert the text to a pandas dataframe \n",
    "* easy to transform pandas dataframe to graphlab sframe\n",
    "* for more info on text analysis with turi sframes see this [documentation](https://turi.com/learn/userguide/text/intro.html)"
   ]
  },
  {
   "cell_type": "code",
   "execution_count": 8,
   "metadata": {
    "collapsed": false
   },
   "outputs": [],
   "source": [
    "speech_data = {'speech': sukarno_jogyakarta_speech}\n",
    "index= [1]\n",
    "speech_df = pd.DataFrame(data = speech_data, index = index)"
   ]
  },
  {
   "cell_type": "code",
   "execution_count": 9,
   "metadata": {
    "collapsed": true
   },
   "outputs": [],
   "source": [
    "BASE_DIR = \"~/repos/statistics-indonesia-python/text_analysis/data\" "
   ]
  },
  {
   "cell_type": "markdown",
   "metadata": {},
   "source": [
    "## Bag-of-words"
   ]
  },
  {
   "cell_type": "markdown",
   "metadata": {},
   "source": [
    "* each document is represented by a map where the words are keys and the values are the number of occurrences.\n",
    "* use pandas data frame to create graphlab sframe\n",
    "* save sframe \n",
    "* transform sframe to bag-of-words (bow) model"
   ]
  },
  {
   "cell_type": "code",
   "execution_count": 10,
   "metadata": {
    "collapsed": false
   },
   "outputs": [],
   "source": [
    "sf = gl.SFrame(data=speech_df)\n",
    "sf.save(\"%s/sukarno_jogyakarta.sframe\" % BASE_DIR)"
   ]
  },
  {
   "cell_type": "code",
   "execution_count": 11,
   "metadata": {
    "collapsed": false
   },
   "outputs": [
    {
     "data": {
      "text/plain": [
       "dtype: dict\n",
       "Rows: 1\n",
       "[{'all': 28, 'ever.': 1, 'arrested.': 1, 'people': 44, 'resistance': 1, 'unfurl': 6, 'colonising.': 2, 'fields.': 1, 'ambassadors,': 1, 'go': 1, 'religious': 1, 'tricks,': 1, '21st': 4, '92': 1, 'graves': 1, 'imperialism.': 6, '[11]': 1, 'colonisation,': 1, 'including': 2, '1945': 4, 'proposal.': 2, \"mook's\": 1, 'colonisation\".': 1, 'those': 8, 'unfurled': 1, 'under': 14, 'jogjakarta,': 3, 'sovereignty': 3, 'pleasing': 1, 'friendly': 2, 'carried': 2, 'decision.': 1, 'repre-': 1, 'returned': 3, 'and,': 5, 'far': 1, 'came,': 1, 'dutch': 39, '\"tour': 1, 'responsibility,': 1, 'me': 6, 'cemeteries': 1, 'putting': 3, 'accuse': 1, 'asia,': 2, 'attractive.': 1, 'yourselves': 1, 'more.': 1, 'today,': 3, 'islands.': 1, 'decoio': 1, 'established,': 1, 'merauke.': 1, 'entire': 8, 'merauke,': 1, 'successful.': 1, '17th': 6, '[9]': 1, 'called': 9, 'did': 5, 'die': 1, 'proposals': 1, 'make': 2, 'bay.': 1, 'these': 6, 'archipelago': 2, 'hague': 1, 'independence': 6, 'arrested': 1, 'chief': 3, 'tried,': 4, 'enjoy': 1, 'flag.': 4, 'revolution': 2, 'me!': 1, 'leaders': 3, 'fence': 1, 'be': 27, 'me,': 2, 'me.': 1, 'sign': 1, 'talks': 1, 'second': 3, 'monginsidi': 1, 'further': 1, 'others.': 1, 'air': 1, 'machine-gun': 1, 'struggle': 12, 'that,': 1, 'colonialism': 1, 'what': 26, 'defence': 3, 'him:': 1, 'stands': 2, 'representative': 1, 'giving': 1, 'anthem': 1, 'exactly': 1, 'both': 1, 'means': 4, 'wriggle': 1, '19th': 4, 'anywhere': 1, 'independence.': 4, 'pleading': 1, 'dr.': 4, 'new': 4, 'order': 7, 'officially': 1, 'admiral': 1, 'dutch.': 4, 'movement': 1, 'proclaiming': 1, 'full': 3, 'not': 57, 'free,': 2, 'flag\".': 1, 'flag\",': 1, 'even': 9, 'sukarno': 6, 'say:': 3, 'ktut': 1, 'hundreds': 7, 'crazier.': 1, 'met': 1, 'let': 7, 'groups': 1, 'alone': 2, 'based': 1, 'police.': 1, 'change': 2, 'here:': 2, 'great': 4, 'union.': 2, \"coen's\": 1, 'attitude.': 1, 'until': 2, 'wherever': 1, 'completely': 2, 'through': 3, 'anchor': 1, 'trial': 1, 'lied': 2, '3.': 1, 'say,': 1, 'defeat': 10, 'real': 2, 'military': 11, 'stand,': 1, 'sumatra,': 1, 'settled': 1, 'all-out': 1, 'crazier': 1, 'deceived,': 2, '1945,': 1, 'love': 2, 'ago': 3, 'heart': 1, 'suddenly': 1, 'merely': 7, 'africa': 1, 'young': 4, 'brought': 1, 'backed': 1, 'parties,': 1, 'netherlands.': 1, 'colonisation.': 3, 'establish': 1, '1961.': 2, 'standing': 2, 'use': 1, 'you?\"': 1, 'from': 26, '[15]': 1, 'try,': 1, 'always': 7, 'positive': 1, 'give': 8, 'ministers': 1, 'decades': 1, 'mobilisation': 4, '[4]': 1, 'going': 3, 'call': 3, 'therefore': 2, 'centre': 1, 'then': 6, 'taken': 4, 'themselves': 4, 'liberating': 1, 'forces': 8, 'is': 74, 'today': 3, 'more': 8, 'up,': 5, 'introducing': 2, 'commissioner': 1, 'merauke': 1, 'on': 21, 'started': 1, 'hereby': 2, 'imperialist': 2, 'academy,': 2, 'it': 39, 'three,': 1, 'carrying': 6, 'controlling': 1, 'rome.': 1, 'president,': 1, 'east': 4, 'known': 2, 'hold': 2, 'women': 1, 'fly': 1, 'high': 1, \"indonesia's\": 5, 'word': 1, 'round': 7, 'tokyo': 1, 'pursue': 2, 'us.': 4, '1945.': 1, 'us,': 4, 'this': 43, 'worm': 1, 'wrong,': 1, 'other': 3, 'imperialism,': 2, 'imperialism': 2, 'can': 5, 'following': 1, 'my': 15, 'dissolve': 1, 'most': 2, 'claim': 1, 'council': 3, 'downfall': 1, 'december': 7, \"didn't\": 2, 'accept': 1, 'involve': 1, 'heard': 1, 'stroke': 1, 'dutch,': 3, 'something': 1, 'want': 6, 'instructions.': 1, 'times': 3, 'dress': 1, 'action': 7, 'fire.': 1, 'firmly': 2, 'huge': 1, 'youth;': 1, 'rays': 1, 'end': 4, 'sit': 1, 'there.': 2, 'regions': 1, 'very': 2, 'jasmine.': 1, 'sentiments': 1, 'africa,': 1, 'place': 1, 'native': 5, 'establishment': 2, 'talks,': 3, 'undertook': 1, 'mataram.': 1, 'de': 2, 'tried': 6, 'confrontation,': 1, 'may': 3, 'stop': 1, 'pasundan': 1, 'after': 1, 'listen!': 1, 'demanding': 1, 'bothered': 3, 'colonialism.': 1, 'wrong': 1, 'united': 14, 'ambassador': 1, 'mankind': 1, 'sabang': 3, 'president': 4, 'pleaded': 1, 'organisations': 1, 'proclaimed': 1, 'a': 67, 'guerilla': 3, 'attempt': 1, 'succeeded': 2, 'occasions': 1, 'strong.': 1, 'counter': 1, '1596,': 1, 'mightiness': 1, 'or': 3, 'struggle.': 2, '[sic]': 1, 'time.': 1, 'sukarno,': 2, 'act.': 2, 'enter': 2, 'every': 2, 'course,': 1, 'again.': 2, 'playing': 1, 'talk': 3, \"that's\": 2, 'army,': 1, 'the.': 1, 'no.': 4, 'executed': 1, 'help': 3, \"don't\": 3, 'jogjakarta': 4, 'indeed': 2, 'heartfelt': 1, 'move': 3, 'soon': 1, 'years': 7, 'policy,': 1, 'attitude': 1, 'policy.': 2, \"won't\": 1, 'beings.': 1, 'existence,': 1, 'ears,': 1, 'nowadays,': 1, 'nisation,': 1, 'still': 3, 'its': 1, 'before': 5, 'subversive': 1, 'member': 1, 'police': 1, 'thank': 5, 'till': 1, 'ottawa': 1, 'already.': 1, 'torn': 1, 'members,': 1, 'strove,': 2, 'him': 4, 'willing': 1, 'sovereignty,': 1, 'policy': 7, 'ours': 1, '2.': 1, 'world.': 3, 'ready,': 1, 'world,': 2, 'youth,': 1, 'happened,': 1, 'eventually': 1, 'them': 7, 'irian,': 11, 'greater': 4, 'diplomats,': 2, 'motion,': 1, 'look,': 2, 'practice': 1, 'it!': 1, 'year,': 1, 'of:': 1, 'compelled': 1, '1950': 1, 'they': 43, 'representatives.': 1, 'representatives,': 1, 'one': 10, 'killed': 1, 'association': 2, 'kilometres': 1, 'execute': 3, 'netherlands': 3, 'miltary': 1, 'fitting?': 1, 'all.': 1, 'negotiate,': 1, 'all,': 2, 'with': 17, 'appropriate': 1, 'establishing': 3, 'bless': 1, 'good': 1, 'victories': 1, 'also,': 1, 'turns': 1, 'accompanied': 2, 'went': 7, 'side': 1, 'experienced': 1, 'lasting': 1, 'ed.)': 1, 'movement,': 1, '(the': 2, 'independent': 2, 'resolute': 1, 'fact,': 4, 'cairo,': 1, 'short,': 2, 'therefore,': 1, 'thirteen': 1, 'ourselves': 1, 'namely,': 1, 'ambassadors': 2, '\"indonesia': 1, 'perfume': 1, 'now': 13, 'out': 12, 'is:': 1, 'ultimately': 1, 'jogjakarta.': 1, 'won': 1, 'hasannudin.': 1, 'finished.': 1, 'defend': 2, 'briefly,': 1, 'day': 1, 'mere': 1, 'time,': 3, 'day,': 1, 'exploding': 1, 'lying,': 1, 'washington,': 1, 'emerged': 1, 'is,': 3, 'imperialists': 3, 'correct': 1, 'red': 12, 'common': 3, 'responsible,': 1, 'us:': 1, 'fancy,': 1, 'self-determination': 1, 'city': 2, 'million': 2, 'given': 3, 'free': 1, 'fortune,': 1, 'bringing': 1, 'reason': 2, 'fuss.': 1, 'formation': 1, 'york': 2, 'members': 1, 'imagine': 1, 'put': 1, 'deception': 1, 'state,': 8, 'beginning': 2, 'chiefs': 2, 'it.': 2, 'speculating,': 1, 'could': 2, 'ask': 6, 'tricks.': 1, '[12]': 1, 'motion': 1, 'turn': 2, 'demands;': 1, 'oppose': 1, 'main\",': 1, '[3]': 1, 'deceived': 1, 'think': 3, 'arose': 1, 'complete.': 1, 'historical': 1, '\"at': 1, 'speaking.': 1, 'irian!': 3, 'sukarno.': 1, 'too.': 2, 'irian.': 8, 'too,': 2, '2,000': 1, 'waged': 2, 'but,': 3, 'puppet': 5, 'colonial': 1, 'another': 1, '1948.': 2, 'carry': 2, 'wickedness.': 1, 'sounds': 1, 'irian;': 1, 'partition': 1, 'pledge': 1, 'r.t.c.,': 1, 'two,': 1, '1948,': 2, 'occupy': 1, 'subandrio': 4, 'caught': 1, 'nation.': 3, 'anyone': 1, 'their': 7, 'attack': 1, 'too': 3, 'passed': 1, 'time': 8, 'white': 11, 'exerted': 1, 'bowed': 1, 'first,': 3, 'sentatives': 1, 'that': 87, 'land,': 2, 'academy': 1, 'cemetery.': 1, 'took': 3, 'indies.': 1, 'short': 2, 'succeed.': 1, 'representing': 1, 'than': 6, 'positively': 2, 'loved': 1, 'proud.': 1, 'grew': 2, '15': 1, 'warfare': 2, '16': 2, '19': 1, 'instruction': 2, 'diplomatic': 1, '1947,': 3, 'august,': 1, 'youth': 3, 'authority.': 3, 'states': 5, 'protected': 1, 'to.': 1, 'to,': 1, 'were': 15, 'extinguish': 1, 'outcome': 3, 'people.': 6, '1.': 1, 'and': 103, 'uniforms': 1, 'subandrio,': 2, 'that?\"': 1, 'well': 1, 'turned': 1, 'argument': 2, 'talking': 1, 'say': 5, 'rained': 4, 'coming!': 1, 'have': 33, 'desire,': 1, 'seen': 1, 'whole,': 1, 'any': 8, 'viewed': 1, 'mook.': 1, 'mook,': 1, 'on,': 7, 'do,': 1, 'once': 5, 'skillful': 1, 'emphasised': 1, 'self': 1, 'able': 1, 'struggle,': 2, 'battles': 1, 'finally,': 1, 'also': 4, 'rome': 2, 'do?': 5, 'which': 12, 'diponegoro.': 1, 'willing,': 1, 'destroy': 1, 'understand,': 1, 'pursues': 2, 'nation,': 2, 'militarily,': 1, 'secretary': 2, 'order,': 1, 'towards': 1, 'starved': 1, 'virtually': 1, 'make.': 1, 'who': 19, 'educate': 1, 'houtman': 1, 'alone;': 1, 'but': 26, 'nothing': 1, 'knee': 1, 'see,': 1, 'extremely': 1, 'hanjokrokusumo,': 1, 'so-called': 3, 'mobilised': 1, 'dishonesty.': 1, 'force,': 2, 'clear': 1, 'later': 2, '[7]': 1, 'face': 2, 'alone!': 1, 'dissolved': 1, 'part': 3, 'revolution.': 1, ':': 3, 'internationalised.': 2, 'repeatedly,': 2, 'revolution/': 1, 'saying.': 1, 'anthem\".': 3, 'night.': 1, 'alone.': 2, 'no,': 3, 'madder': 1, 'confront': 6, 'text': 2, 'agreed': 2, 'mean?': 1, 'one,': 2, 'o£': 2, 'one.': 1, 'nations?': 1, 'bring': 10, 'attempts': 1, 'session': 1, 'middle,': 1, 'luck,': 1, 'utter': 1, 'implemented,': 1, 'july': 2, 'nations.': 4, 'staff': 1, 'bondjol.': 1, 'just': 14, 'state.': 2, 'proclamation': 1, 'offensive': 1, 'second,': 1, 'state': 18, 'should': 6, 'jan': 1, 'imperialists,': 2, 'only': 22, 'imperialists.': 1, 'exact,': 1, 'wiser.': 1, 'papua.': 1, 'now,': 15, 'onwards.': 1, 'they,': 1, 'thousands': 1, 'union,': 1, 'hope': 1, 'first': 9, 'meant': 1, 'do': 10, 'over': 12, 'his': 3, 'miseries,': 1, 'get': 2, 'there': 16, 'ministers,': 2, 'independence,': 6, 'right,': 1, '\"flag': 1, 'bear': 1, 'no!': 5, \"yamin's\": 1, 'cannot': 3, 'words': 1, 'international': 5, 'territoy': 1, 'nederlands': 1, '\"papua': 5, 'friends:': 3, 'mexico-city,': 1, 'result?': 1, 'republic,': 3, 'covering': 1, 'ever': 3, 'god': 4, 'agung': 2, 'stooges': 1, 'men,': 3, ''irrevocable\"': 1, 'embassy': 1, 'un.': 2, 'though': 1, 'friends.': 1, 'them.': 2, 'told': 2, 'where': 2, 'liberation': 2, 'liberate': 5, 'view': 1, 'large-scale': 1, 'conform': 1, 'set': 6, 'indonesia:': 1, 'national': 10, 'dies.': 1, 'up': 15, '1947.': 1, 'see': 5, 'result': 5, 'term.': 1, 'know,': 5, 'nations': 9, 'end,': 1, 'best': 1, 'august': 5, '[13]': 1, 'come,': 1, 'said': 21, '\"self-determination\":': 1, 'because,': 1, 'representatives': 7, 'command?': 2, 'yet': 5, 'behind': 1, '\"self-determination\".': 1, 'years,': 5, 'fly.': 1, 'between': 3, '\"yes,': 1, 'tricked,': 1, '1949,': 4, 'un,': 10, 'command,': 2, 'compliment': 1, 'command.': 3, 'we': 80, 'loves': 1, 'right': 2, 'attention': 2, 'moscow,': 1, 'semaki': 1, 'arisen,': 1, 'strong': 2, 'opposition': 2, \"nation's\": 1, 'come': 9, 'doing?': 1, '[8]': 1, 'received': 2, 'last': 3, 'asunder': 1, 'sultan': 4, 'indonesian;': 1, 'country': 2, 'ill': 2, 'fighters,': 1, 'countries,': 2, 'according': 1, 'nations,': 1, 'foreign': 3, 'admit': 1, 'became': 1, 'frustrate,': 1, 'way.': 1, 'context': 1, 'old.': 1, 'expression': 1, 'fix': 1, 'comes': 2, 'duty': 3, 'gone': 1, 'colonisation': 1, 'sweet': 1, 'done?': 1, 'period': 1, 'trampled': 1, 'active': 1, 'nice-sounding': 1, 'strengthening': 1, 'simply': 1, 'indië,': 1, '1950.': 1, 'table': 8, '1950,': 1, 'throughout': 1, 'appeared': 1, 'nationalist': 1, 'there,': 5, 'firmly.': 1, 'abrogated,': 1, 'tread': 1, 'why': 3, 'offensives.': 1, 'union': 1, 'west': 55, 'create': 1, 'mouthpiece': 1, 'political': 3, '\"unconditional\".': 1, 'been': 17, 'almighty': 3, 'much': 1, 'peoples,': 1, 'certain': 1, 'speedily': 1, 'djakarta': 1, 'territory': 16, 'meeting': 2, 'duties': 1, '\"state': 7, 'imam': 2, 'self-determination.': 3, 'direction': 1, 'self-determination,': 1, 'success.': 1, 'colonised': 1, 'attacked': 1, 'fire': 6, 'beforehand': 1, 'has': 9, '-': 17, 'speeches': 2, 'else': 2, 'moment': 4, 'finished': 1, 'endorse': 3, 'determination': 1, 'reason.': 1, 'gift,': 1, 'spirit': 16, 'present': 3, 'mohammad': 1, 'practise': 1, 'utmost': 1, 'look': 1, 'clearly.': 1, 'represent.': 1, 'socialist': 13, 'ask:': 1, 'will': 10, 'moon,': 1, 'while': 1, 'smart': 2, 'shall': 3, 'fighters.': 1, 'region': 4, 'promised': 1, 'kingdom': 1, 'force': 2, 'unitary': 2, 'express': 2, 'played': 1, 'almost': 1, 'said:': 6, 'said;': 1, 'it,': 1, 'defeated': 2, 'commander': 5, 'helped': 3, 'completed.': 1, 'sudden': 1, 'against': 7, 'in': 135, 'ready': 4, 'commanded': 1, 'nation': 10, 'internationalisation': 1, 'said,': 4, 'said.': 1, 'if': 7, 'people,': 6, 'teuku': 1, 'hanjokrokusumo': 1, 'since': 6, 'flag!': 1, 'clear,': 1, 'perform': 1, 'anthem\",': 1, 'began': 2, '[6]': 1, 'reminded': 1, 'same': 1, 'clearly': 1, 'gentlemen': 1, \"pa'dimara\": 1, 'unity': 1, 'july,': 2, 'split': 1, 'established': 1, 'chaotic,': 1, 'trap.': 1, 'several': 1, 'djoko': 1, 'here.': 3, 'vienna,': 1, 'been:': 1, 'movement.': 1, 'vis-a-vis': 2, 'peaks': 1, 'lie': 1, 'here,': 2, 'upon': 7, 'mankind.': 1, 'papua\"!': 3, 'respected': 1, 'strength': 2, 'i,': 1, 'banten': 1, 'fierce': 1, 'conference,': 3, 'conference.': 1, 'papua\",': 5, 'papua\".': 1, 'event,': 1, 'tri-command:': 1, 'so': 11, 'i': 79, 'whole': 9, 'ditiro.': 1, 'indonesia': 29, 'part,': 1, 'paris,': 1, 'know': 9, 'wants': 1, 'stranglehold': 1, 'without': 1, 'command': 15, 'greatest': 1, 'thing,': 1, 'hearts': 3, 'the': 441, 'revolution,': 2, 'batavia.': 1, 'people:': 1, 'carefully,': 1, 'indonesia,': 12, 'composed': 1, 'republic?': 1, 'mind': 1, 'proposed': 1, 'heavily': 1, 'claiming': 1, 'officers,': 1, 'indonesia!': 1, 'actions': 2, 'officers': 4, 'front': 2, 'fighters': 3, 'indonesia?': 2, 'fact': 8, 'thanks': 4, 'human': 1, 'world': 3, 'followed': 1, 'yes': 1, 'instructed': 1, '[5]': 1, 'to': 120, 'previous': 1, 'cornelis': 1, 'leaders,': 1, 'death': 1, 'luns,': 1, 'luns.': 1, '27th': 6, 'point': 1, 'had': 16, 'economically,': 1, \"luns'\": 1, 'discuss': 1, 'republic.': 8, 'arrest': 1, 'spread': 5, 'pangeran': 1, 'attractive': 1, 'republic': 33, 'struck': 2, 'heavier': 1, 'lies,': 1, '\"here': 1, 'match': 1, 'take': 1, 'resolved': 1, '...': 1, 'indonesian': 31, 'march': 3, 'fact.': 1, 'vindicate': 2, 'government': 2, 'read': 1, 'dishonest,': 1, 'possible': 3, 'action.': 1, 'makes': 1, 'moment,': 3, 'groups.': 1, \"action'\": 1, 'accepted': 1, 'french': 1, 'desire': 1, 'like': 1, 'inviting': 1, 'peasants,': 1, 'states,': 6, 'already': 6, 'states.': 6, 'we,': 4, 'irian': 32, 'colonising': 1, '[10]': 1, 'become': 4, 'states?': 1, 'recognize': 1, 'actions,': 1, \"hero's\": 2, 'because': 2, 'deal': 3, 'doll': 1, 'underwent': 1, 'some': 6, 'authority': 10, 'tempered': 1, 'understood': 1, 'fine-sounding': 1, 'mighty': 3, 'respect': 2, 'proper': 1, 'indeed.': 1, 'london,': 1, 'recognition': 1, 'raya\".': 1, 'peace,': 1, 'politically,': 1, 'before.': 3, 'total': 2, 'women,': 1, 'magelang.': 1, 'women.': 1, 'magelang,': 1, 'armed': 11, 'untung': 1, 'politically.': 1, 'students': 1, 'speeches,': 1, 'tongues.': 1, 'honoured': 9, 'results.': 1, 'respects': 1, 'chains': 1, 'leader': 1, '?': 3, 'indonesia.': 18, 'conference': 3, 'says': 1, 'khaki': 1, 'power': 1, 'dropped': 1, 'night': 1, 'continuing': 14, 'congress.': 1, 'graduates': 2, 'how': 3, 'pieterszoon': 1, 'tjik': 1, 'although': 7, 'graduated': 1, 'tempering': 1, 'by': 30, 'earlier': 1, 'trickery': 2, 'helping': 1, 'about': 5, 'staff,': 1, 'would': 9, 'december,': 4, 'oh': 3, \"sukarno's\": 1, 'of': 256, 'am': 19, 'army': 2, 'recognized': 1, 'must': 3, 'papua': 2, 'sovereignty.': 1, 'pleaded,': 1, 'stand': 4, 'act': 1, 'uniting': 1, 'urges': 1, 'efforts': 3, 'referred': 2, 'out,': 5, 'navy,': 1, 'ties,': 1, 'mine!': 1, 'luns': 5, 'warfare.': 1, 'own': 3, 'formerly': 1, 'negotiate.': 1, 'into': 12, 'within': 4, 'confrontation': 5, 'nonsense': 1, 'cauldron': 1, 'two': 1, 'down': 1, 'thankful': 1, 'guard': 2, 'text-ed.)': 1, 'promise': 1, 'times.': 1, 'your': 3, 'militarily': 1, 'friends,': 15, 'later.': 1, 'existed': 2, 'striven': 1, 'van': 3, 'verbal': 1, 'prepare': 1, 'more,': 2, 'friends': 3, 'support': 1, 'flying': 10, 'question': 4, 'long': 1, 'fight': 1, 'prepared,': 1, 'president/': 1, 'why,': 5, 'recognised': 3, 'way': 1, 'forces.': 2, 'forces,': 1, 'was': 36, 'launching': 1, 'turned,': 1, 'indonesia-dutch': 4, 'you,': 5, 'an': 9, 'form': 1, 'what?': 1, 'java,': 1, 'decolonisation': 3, 'so,': 2, 'lie,': 1, 'here': 7, 'neutral': 1, 'land': 1, 'hear': 1, 'repeatedly': 1, 'true': 2, 'proposal': 3, 'land.': 2, 'he': 9, 'partitioning': 2, 'made': 6, '[14]': 1, 'chained': 1, 'this,': 1, 'signed': 1, 'this.': 4, 'placed': 1, 'manoeuvres.': 1, 'un': 5, 'diponegoro': 2, \"fire's\": 1, 'agree': 1, 'adorn': 1, 'side.': 1, 'prayed': 1, 'supreme': 4, 'proud': 1, 'suropati.': 1, 'begun': 2, 'gerwani': 1, 'internationalisation,': 1, 'strangle-hold': 2, 'year': 2, 'diplomacy,': 3, 'life': 1, 'general': 4, 'arms.': 1, 'side?': 1, 'as': 35, 'words,': 2, 'die.': 1, 'at': 27, 'our': 38, 'tiandradimuka': 1, 'trip': 1, 'are': 39, 'again': 1, 'us': 18, 'no': 3, '46': 1, 'fencing': 2, 'resolution.': 1, 'when': 9, 'reality': 1, 'economically.': 1, 'roses': 1, 'build': 1, 'setting': 3, 'indanesia': 1, 'themselves.': 2, 'you': 26, 'suffer,': 1, 'nice': 1, 'oh,': 5, 'move,': 2, 'decolonisation!': 1, 'indeed,': 3, 'sectors,': 1, 'decolonisation,': 1, 'knew': 1, 'decolonisation.': 1, 'rostrum,': 1, 'deeper,': 5, 'almighty,': 1, 'prepared': 1, \"let's\": 2, 'town': 1, 'meaning': 1, 'yes,': 13, 'intent': 1, 'recognise': 1, 'included': 1, '\"what': 1, 'shift': 1, 'ours.': 1, '13': 1, 'building': 1, 'onward!': 1, 'workers,': 1, 'for': 30, 'invest': 2, 'confirm': 3, 'humiliated': 1, 'flag': 12, 'together': 1, 'having': 1, 'confrontation.': 2, 'entirely,': 1, 'arisen': 1, 'came': 2, '\"national': 1, 'djelantik.': 1, '\"the': 1, 'resolution': 1, 'sounded': 1, 'minister': 2}]"
      ]
     },
     "execution_count": 11,
     "metadata": {},
     "output_type": "execute_result"
    }
   ],
   "source": [
    "bow = gl.text_analytics.count_words(sf['speech'])\n",
    "sf['bow'] = bow\n",
    "bow"
   ]
  },
  {
   "cell_type": "markdown",
   "metadata": {},
   "source": [
    "## TF-IDF"
   ]
  },
  {
   "cell_type": "markdown",
   "metadata": {},
   "source": [
    "* Another useful representation for text data is called TF-IDF (term frequency - inverse document frequency).\n",
    "* This is a modification of the bag-of-words format where the counts are transformed into scores: \n",
    "    * words that are common across the document corpus are given low scores,  \n",
    "    rare words occurring often in a document are given high scores"
   ]
  },
  {
   "cell_type": "markdown",
   "metadata": {},
   "source": [
    "* TF-IDF(word,document)=N(word,document)∗log(1/∑dN(word,d)))\n",
    "    * where N(w, d) is the number of times word w occurs in document d"
   ]
  },
  {
   "cell_type": "code",
   "execution_count": 12,
   "metadata": {
    "collapsed": false
   },
   "outputs": [
    {
     "data": {
      "text/plain": [
       "dtype: dict\n",
       "Rows: 1\n",
       "[{'all': 0.0, 'ever.': 0.0, 'arrested.': 0.0, 'people': 0.0, 'resistance': 0.0, 'unfurl': 0.0, 'colonising.': 0.0, 'fields.': 0.0, 'ambassadors,': 0.0, 'go': 0.0, 'religious': 0.0, 'tricks,': 0.0, '21st': 0.0, '92': 0.0, 'graves': 0.0, 'imperialism.': 0.0, '[11]': 0.0, 'colonisation,': 0.0, 'including': 0.0, '1945': 0.0, 'proposal.': 0.0, \"mook's\": 0.0, 'colonisation\".': 0.0, 'those': 0.0, 'unfurled': 0.0, 'under': 0.0, 'jogjakarta,': 0.0, 'sovereignty': 0.0, 'pleasing': 0.0, 'friendly': 0.0, 'carried': 0.0, 'decision.': 0.0, 'repre-': 0.0, 'returned': 0.0, 'and,': 0.0, 'far': 0.0, 'came,': 0.0, 'dutch': 0.0, '\"tour': 0.0, 'responsibility,': 0.0, 'me': 0.0, 'cemeteries': 0.0, 'putting': 0.0, 'accuse': 0.0, 'asia,': 0.0, 'attractive.': 0.0, 'yourselves': 0.0, 'more.': 0.0, 'today,': 0.0, 'islands.': 0.0, 'decoio': 0.0, 'established,': 0.0, 'merauke.': 0.0, 'entire': 0.0, 'merauke,': 0.0, 'successful.': 0.0, '17th': 0.0, '[9]': 0.0, 'called': 0.0, 'did': 0.0, 'die': 0.0, 'proposals': 0.0, 'make': 0.0, 'bay.': 0.0, 'these': 0.0, 'archipelago': 0.0, 'hague': 0.0, 'independence': 0.0, 'arrested': 0.0, 'chief': 0.0, 'tried,': 0.0, 'enjoy': 0.0, 'flag.': 0.0, 'revolution': 0.0, 'me!': 0.0, 'leaders': 0.0, 'fence': 0.0, 'be': 0.0, 'me,': 0.0, 'me.': 0.0, 'sign': 0.0, 'talks': 0.0, 'second': 0.0, 'monginsidi': 0.0, 'further': 0.0, 'others.': 0.0, 'air': 0.0, 'machine-gun': 0.0, 'struggle': 0.0, 'that,': 0.0, 'colonialism': 0.0, 'what': 0.0, 'defence': 0.0, 'him:': 0.0, 'stands': 0.0, 'representative': 0.0, 'giving': 0.0, 'anthem': 0.0, 'exactly': 0.0, 'both': 0.0, 'means': 0.0, 'wriggle': 0.0, '19th': 0.0, 'anywhere': 0.0, 'independence.': 0.0, 'pleading': 0.0, 'dr.': 0.0, 'new': 0.0, 'order': 0.0, 'officially': 0.0, 'admiral': 0.0, 'dutch.': 0.0, 'movement': 0.0, 'proclaiming': 0.0, 'full': 0.0, 'not': 0.0, 'free,': 0.0, 'flag\".': 0.0, 'flag\",': 0.0, 'even': 0.0, 'sukarno': 0.0, 'say:': 0.0, 'ktut': 0.0, 'hundreds': 0.0, 'crazier.': 0.0, 'met': 0.0, 'let': 0.0, 'groups': 0.0, 'alone': 0.0, 'based': 0.0, 'police.': 0.0, 'change': 0.0, 'here:': 0.0, 'great': 0.0, 'union.': 0.0, \"coen's\": 0.0, 'attitude.': 0.0, 'until': 0.0, 'wherever': 0.0, 'completely': 0.0, 'through': 0.0, 'anchor': 0.0, 'trial': 0.0, 'lied': 0.0, '3.': 0.0, 'say,': 0.0, 'defeat': 0.0, 'real': 0.0, 'military': 0.0, 'stand,': 0.0, 'sumatra,': 0.0, 'settled': 0.0, 'all-out': 0.0, 'crazier': 0.0, 'deceived,': 0.0, '1945,': 0.0, 'love': 0.0, 'ago': 0.0, 'heart': 0.0, 'suddenly': 0.0, 'merely': 0.0, 'africa': 0.0, 'young': 0.0, 'brought': 0.0, 'backed': 0.0, 'parties,': 0.0, 'netherlands.': 0.0, 'colonisation.': 0.0, 'establish': 0.0, '1961.': 0.0, 'standing': 0.0, 'use': 0.0, 'you?\"': 0.0, 'from': 0.0, '[15]': 0.0, 'try,': 0.0, 'always': 0.0, 'positive': 0.0, 'give': 0.0, 'ministers': 0.0, 'decades': 0.0, 'mobilisation': 0.0, '[4]': 0.0, 'going': 0.0, 'call': 0.0, 'therefore': 0.0, 'centre': 0.0, 'then': 0.0, 'taken': 0.0, 'themselves': 0.0, 'liberating': 0.0, 'forces': 0.0, 'is': 0.0, 'today': 0.0, 'more': 0.0, 'up,': 0.0, 'introducing': 0.0, 'commissioner': 0.0, 'merauke': 0.0, 'on': 0.0, 'started': 0.0, 'hereby': 0.0, 'imperialist': 0.0, 'academy,': 0.0, 'it': 0.0, 'three,': 0.0, 'carrying': 0.0, 'controlling': 0.0, 'rome.': 0.0, 'president,': 0.0, 'east': 0.0, 'known': 0.0, 'hold': 0.0, 'women': 0.0, 'fly': 0.0, 'high': 0.0, \"indonesia's\": 0.0, 'word': 0.0, 'round': 0.0, 'tokyo': 0.0, 'pursue': 0.0, 'us.': 0.0, '1945.': 0.0, 'us,': 0.0, 'this': 0.0, 'worm': 0.0, 'wrong,': 0.0, 'other': 0.0, 'imperialism,': 0.0, 'imperialism': 0.0, 'can': 0.0, 'following': 0.0, 'my': 0.0, 'dissolve': 0.0, 'most': 0.0, 'claim': 0.0, 'council': 0.0, 'downfall': 0.0, 'december': 0.0, \"didn't\": 0.0, 'accept': 0.0, 'involve': 0.0, 'heard': 0.0, 'stroke': 0.0, 'dutch,': 0.0, 'something': 0.0, 'want': 0.0, 'instructions.': 0.0, 'times': 0.0, 'dress': 0.0, 'action': 0.0, 'fire.': 0.0, 'firmly': 0.0, 'huge': 0.0, 'youth;': 0.0, 'rays': 0.0, 'end': 0.0, 'sit': 0.0, 'there.': 0.0, 'regions': 0.0, 'very': 0.0, 'jasmine.': 0.0, 'sentiments': 0.0, 'africa,': 0.0, 'place': 0.0, 'native': 0.0, 'establishment': 0.0, 'talks,': 0.0, 'undertook': 0.0, 'mataram.': 0.0, 'de': 0.0, 'tried': 0.0, 'confrontation,': 0.0, 'may': 0.0, 'stop': 0.0, 'pasundan': 0.0, 'after': 0.0, 'listen!': 0.0, 'demanding': 0.0, 'bothered': 0.0, 'colonialism.': 0.0, 'wrong': 0.0, 'united': 0.0, 'ambassador': 0.0, 'mankind': 0.0, 'sabang': 0.0, 'president': 0.0, 'pleaded': 0.0, 'organisations': 0.0, 'proclaimed': 0.0, 'a': 0.0, 'guerilla': 0.0, 'attempt': 0.0, 'succeeded': 0.0, 'occasions': 0.0, 'strong.': 0.0, 'counter': 0.0, '1596,': 0.0, 'mightiness': 0.0, 'or': 0.0, 'struggle.': 0.0, '[sic]': 0.0, 'time.': 0.0, 'sukarno,': 0.0, 'act.': 0.0, 'enter': 0.0, 'every': 0.0, 'course,': 0.0, 'again.': 0.0, 'playing': 0.0, 'talk': 0.0, \"that's\": 0.0, 'army,': 0.0, 'the.': 0.0, 'no.': 0.0, 'executed': 0.0, 'help': 0.0, \"don't\": 0.0, 'jogjakarta': 0.0, 'indeed': 0.0, 'heartfelt': 0.0, 'move': 0.0, 'soon': 0.0, 'years': 0.0, 'policy,': 0.0, 'attitude': 0.0, 'policy.': 0.0, \"won't\": 0.0, 'beings.': 0.0, 'existence,': 0.0, 'ears,': 0.0, 'nowadays,': 0.0, 'nisation,': 0.0, 'still': 0.0, 'its': 0.0, 'before': 0.0, 'subversive': 0.0, 'member': 0.0, 'police': 0.0, 'thank': 0.0, 'till': 0.0, 'ottawa': 0.0, 'already.': 0.0, 'torn': 0.0, 'members,': 0.0, 'strove,': 0.0, 'him': 0.0, 'willing': 0.0, 'sovereignty,': 0.0, 'policy': 0.0, 'ours': 0.0, '2.': 0.0, 'world.': 0.0, 'ready,': 0.0, 'world,': 0.0, 'youth,': 0.0, 'happened,': 0.0, 'eventually': 0.0, 'them': 0.0, 'irian,': 0.0, 'greater': 0.0, 'diplomats,': 0.0, 'motion,': 0.0, 'look,': 0.0, 'practice': 0.0, 'it!': 0.0, 'year,': 0.0, 'of:': 0.0, 'compelled': 0.0, '1950': 0.0, 'they': 0.0, 'representatives.': 0.0, 'representatives,': 0.0, 'one': 0.0, 'killed': 0.0, 'association': 0.0, 'kilometres': 0.0, 'execute': 0.0, 'netherlands': 0.0, 'miltary': 0.0, 'fitting?': 0.0, 'all.': 0.0, 'negotiate,': 0.0, 'all,': 0.0, 'with': 0.0, 'appropriate': 0.0, 'establishing': 0.0, 'bless': 0.0, 'good': 0.0, 'victories': 0.0, 'also,': 0.0, 'turns': 0.0, 'accompanied': 0.0, 'went': 0.0, 'side': 0.0, 'experienced': 0.0, 'lasting': 0.0, 'ed.)': 0.0, 'movement,': 0.0, '(the': 0.0, 'independent': 0.0, 'resolute': 0.0, 'fact,': 0.0, 'cairo,': 0.0, 'short,': 0.0, 'therefore,': 0.0, 'thirteen': 0.0, 'ourselves': 0.0, 'namely,': 0.0, 'ambassadors': 0.0, '\"indonesia': 0.0, 'perfume': 0.0, 'now': 0.0, 'out': 0.0, 'is:': 0.0, 'ultimately': 0.0, 'jogjakarta.': 0.0, 'won': 0.0, 'hasannudin.': 0.0, 'finished.': 0.0, 'defend': 0.0, 'briefly,': 0.0, 'day': 0.0, 'mere': 0.0, 'time,': 0.0, 'day,': 0.0, 'exploding': 0.0, 'lying,': 0.0, 'washington,': 0.0, 'emerged': 0.0, 'is,': 0.0, 'imperialists': 0.0, 'correct': 0.0, 'red': 0.0, 'common': 0.0, 'responsible,': 0.0, 'us:': 0.0, 'fancy,': 0.0, 'self-determination': 0.0, 'city': 0.0, 'million': 0.0, 'given': 0.0, 'free': 0.0, 'fortune,': 0.0, 'bringing': 0.0, 'reason': 0.0, 'fuss.': 0.0, 'formation': 0.0, 'york': 0.0, 'members': 0.0, 'imagine': 0.0, 'put': 0.0, 'deception': 0.0, 'state,': 0.0, 'beginning': 0.0, 'chiefs': 0.0, 'it.': 0.0, 'speculating,': 0.0, 'could': 0.0, 'ask': 0.0, 'tricks.': 0.0, '[12]': 0.0, 'motion': 0.0, 'turn': 0.0, 'demands;': 0.0, 'oppose': 0.0, 'main\",': 0.0, '[3]': 0.0, 'deceived': 0.0, 'think': 0.0, 'arose': 0.0, 'complete.': 0.0, 'historical': 0.0, '\"at': 0.0, 'speaking.': 0.0, 'irian!': 0.0, 'sukarno.': 0.0, 'too.': 0.0, 'irian.': 0.0, 'too,': 0.0, '2,000': 0.0, 'waged': 0.0, 'but,': 0.0, 'puppet': 0.0, 'colonial': 0.0, 'another': 0.0, '1948.': 0.0, 'carry': 0.0, 'wickedness.': 0.0, 'sounds': 0.0, 'irian;': 0.0, 'partition': 0.0, 'pledge': 0.0, 'r.t.c.,': 0.0, 'two,': 0.0, '1948,': 0.0, 'occupy': 0.0, 'subandrio': 0.0, 'caught': 0.0, 'nation.': 0.0, 'anyone': 0.0, 'their': 0.0, 'attack': 0.0, 'too': 0.0, 'passed': 0.0, 'time': 0.0, 'white': 0.0, 'exerted': 0.0, 'bowed': 0.0, 'first,': 0.0, 'sentatives': 0.0, 'that': 0.0, 'land,': 0.0, 'academy': 0.0, 'cemetery.': 0.0, 'took': 0.0, 'indies.': 0.0, 'short': 0.0, 'succeed.': 0.0, 'representing': 0.0, 'than': 0.0, 'positively': 0.0, 'loved': 0.0, 'proud.': 0.0, 'grew': 0.0, '15': 0.0, 'warfare': 0.0, '16': 0.0, '19': 0.0, 'instruction': 0.0, 'diplomatic': 0.0, '1947,': 0.0, 'august,': 0.0, 'youth': 0.0, 'authority.': 0.0, 'states': 0.0, 'protected': 0.0, 'to.': 0.0, 'to,': 0.0, 'were': 0.0, 'extinguish': 0.0, 'outcome': 0.0, 'people.': 0.0, '1.': 0.0, 'and': 0.0, 'uniforms': 0.0, 'subandrio,': 0.0, 'that?\"': 0.0, 'well': 0.0, 'turned': 0.0, 'argument': 0.0, 'talking': 0.0, 'say': 0.0, 'rained': 0.0, 'coming!': 0.0, 'have': 0.0, 'desire,': 0.0, 'seen': 0.0, 'whole,': 0.0, 'any': 0.0, 'viewed': 0.0, 'mook.': 0.0, 'mook,': 0.0, 'on,': 0.0, 'do,': 0.0, 'once': 0.0, 'skillful': 0.0, 'emphasised': 0.0, 'self': 0.0, 'able': 0.0, 'struggle,': 0.0, 'battles': 0.0, 'finally,': 0.0, 'also': 0.0, 'rome': 0.0, 'do?': 0.0, 'which': 0.0, 'diponegoro.': 0.0, 'willing,': 0.0, 'destroy': 0.0, 'understand,': 0.0, 'pursues': 0.0, 'nation,': 0.0, 'militarily,': 0.0, 'secretary': 0.0, 'order,': 0.0, 'towards': 0.0, 'starved': 0.0, 'virtually': 0.0, 'make.': 0.0, 'who': 0.0, 'educate': 0.0, 'houtman': 0.0, 'alone;': 0.0, 'but': 0.0, 'nothing': 0.0, 'knee': 0.0, 'see,': 0.0, 'extremely': 0.0, 'hanjokrokusumo,': 0.0, 'so-called': 0.0, 'mobilised': 0.0, 'dishonesty.': 0.0, 'force,': 0.0, 'clear': 0.0, 'later': 0.0, '[7]': 0.0, 'face': 0.0, 'alone!': 0.0, 'dissolved': 0.0, 'part': 0.0, 'revolution.': 0.0, ':': 0.0, 'internationalised.': 0.0, 'repeatedly,': 0.0, 'revolution/': 0.0, 'saying.': 0.0, 'anthem\".': 0.0, 'night.': 0.0, 'alone.': 0.0, 'no,': 0.0, 'madder': 0.0, 'confront': 0.0, 'text': 0.0, 'agreed': 0.0, 'mean?': 0.0, 'one,': 0.0, 'o£': 0.0, 'one.': 0.0, 'nations?': 0.0, 'bring': 0.0, 'attempts': 0.0, 'session': 0.0, 'middle,': 0.0, 'luck,': 0.0, 'utter': 0.0, 'implemented,': 0.0, 'july': 0.0, 'nations.': 0.0, 'staff': 0.0, 'bondjol.': 0.0, 'just': 0.0, 'state.': 0.0, 'proclamation': 0.0, 'offensive': 0.0, 'second,': 0.0, 'state': 0.0, 'should': 0.0, 'jan': 0.0, 'imperialists,': 0.0, 'only': 0.0, 'imperialists.': 0.0, 'exact,': 0.0, 'wiser.': 0.0, 'papua.': 0.0, 'now,': 0.0, 'onwards.': 0.0, 'they,': 0.0, 'thousands': 0.0, 'union,': 0.0, 'hope': 0.0, 'first': 0.0, 'meant': 0.0, 'do': 0.0, 'over': 0.0, 'his': 0.0, 'miseries,': 0.0, 'get': 0.0, 'there': 0.0, 'ministers,': 0.0, 'independence,': 0.0, 'right,': 0.0, '\"flag': 0.0, 'bear': 0.0, 'no!': 0.0, \"yamin's\": 0.0, 'cannot': 0.0, 'words': 0.0, 'international': 0.0, 'territoy': 0.0, 'nederlands': 0.0, '\"papua': 0.0, 'friends:': 0.0, 'mexico-city,': 0.0, 'result?': 0.0, 'republic,': 0.0, 'covering': 0.0, 'ever': 0.0, 'god': 0.0, 'agung': 0.0, 'stooges': 0.0, 'men,': 0.0, ''irrevocable\"': 0.0, 'embassy': 0.0, 'un.': 0.0, 'though': 0.0, 'friends.': 0.0, 'them.': 0.0, 'told': 0.0, 'where': 0.0, 'liberation': 0.0, 'liberate': 0.0, 'view': 0.0, 'large-scale': 0.0, 'conform': 0.0, 'set': 0.0, 'indonesia:': 0.0, 'national': 0.0, 'dies.': 0.0, 'up': 0.0, '1947.': 0.0, 'see': 0.0, 'result': 0.0, 'term.': 0.0, 'know,': 0.0, 'nations': 0.0, 'end,': 0.0, 'best': 0.0, 'august': 0.0, '[13]': 0.0, 'come,': 0.0, 'said': 0.0, '\"self-determination\":': 0.0, 'because,': 0.0, 'representatives': 0.0, 'command?': 0.0, 'yet': 0.0, 'behind': 0.0, '\"self-determination\".': 0.0, 'years,': 0.0, 'fly.': 0.0, 'between': 0.0, '\"yes,': 0.0, 'tricked,': 0.0, '1949,': 0.0, 'un,': 0.0, 'command,': 0.0, 'compliment': 0.0, 'command.': 0.0, 'we': 0.0, 'loves': 0.0, 'right': 0.0, 'attention': 0.0, 'moscow,': 0.0, 'semaki': 0.0, 'arisen,': 0.0, 'strong': 0.0, 'opposition': 0.0, \"nation's\": 0.0, 'come': 0.0, 'doing?': 0.0, '[8]': 0.0, 'received': 0.0, 'last': 0.0, 'asunder': 0.0, 'sultan': 0.0, 'indonesian;': 0.0, 'country': 0.0, 'ill': 0.0, 'fighters,': 0.0, 'countries,': 0.0, 'according': 0.0, 'nations,': 0.0, 'foreign': 0.0, 'admit': 0.0, 'became': 0.0, 'frustrate,': 0.0, 'way.': 0.0, 'context': 0.0, 'old.': 0.0, 'expression': 0.0, 'fix': 0.0, 'comes': 0.0, 'duty': 0.0, 'gone': 0.0, 'colonisation': 0.0, 'sweet': 0.0, 'done?': 0.0, 'period': 0.0, 'trampled': 0.0, 'active': 0.0, 'nice-sounding': 0.0, 'strengthening': 0.0, 'simply': 0.0, 'indië,': 0.0, '1950.': 0.0, 'table': 0.0, '1950,': 0.0, 'throughout': 0.0, 'appeared': 0.0, 'nationalist': 0.0, 'there,': 0.0, 'firmly.': 0.0, 'abrogated,': 0.0, 'tread': 0.0, 'why': 0.0, 'offensives.': 0.0, 'union': 0.0, 'west': 0.0, 'create': 0.0, 'mouthpiece': 0.0, 'political': 0.0, '\"unconditional\".': 0.0, 'been': 0.0, 'almighty': 0.0, 'much': 0.0, 'peoples,': 0.0, 'certain': 0.0, 'speedily': 0.0, 'djakarta': 0.0, 'territory': 0.0, 'meeting': 0.0, 'duties': 0.0, '\"state': 0.0, 'imam': 0.0, 'self-determination.': 0.0, 'direction': 0.0, 'self-determination,': 0.0, 'success.': 0.0, 'colonised': 0.0, 'attacked': 0.0, 'fire': 0.0, 'beforehand': 0.0, 'has': 0.0, '-': 0.0, 'speeches': 0.0, 'else': 0.0, 'moment': 0.0, 'finished': 0.0, 'endorse': 0.0, 'determination': 0.0, 'reason.': 0.0, 'gift,': 0.0, 'spirit': 0.0, 'present': 0.0, 'mohammad': 0.0, 'practise': 0.0, 'utmost': 0.0, 'look': 0.0, 'clearly.': 0.0, 'represent.': 0.0, 'socialist': 0.0, 'ask:': 0.0, 'will': 0.0, 'moon,': 0.0, 'while': 0.0, 'smart': 0.0, 'shall': 0.0, 'fighters.': 0.0, 'region': 0.0, 'promised': 0.0, 'kingdom': 0.0, 'force': 0.0, 'unitary': 0.0, 'express': 0.0, 'played': 0.0, 'almost': 0.0, 'said:': 0.0, 'said;': 0.0, 'it,': 0.0, 'defeated': 0.0, 'commander': 0.0, 'helped': 0.0, 'completed.': 0.0, 'sudden': 0.0, 'against': 0.0, 'in': 0.0, 'ready': 0.0, 'commanded': 0.0, 'nation': 0.0, 'internationalisation': 0.0, 'said,': 0.0, 'said.': 0.0, 'if': 0.0, 'people,': 0.0, 'teuku': 0.0, 'hanjokrokusumo': 0.0, 'since': 0.0, 'flag!': 0.0, 'clear,': 0.0, 'perform': 0.0, 'anthem\",': 0.0, 'began': 0.0, '[6]': 0.0, 'reminded': 0.0, 'same': 0.0, 'clearly': 0.0, 'gentlemen': 0.0, \"pa'dimara\": 0.0, 'unity': 0.0, 'july,': 0.0, 'split': 0.0, 'established': 0.0, 'chaotic,': 0.0, 'trap.': 0.0, 'several': 0.0, 'djoko': 0.0, 'here.': 0.0, 'vienna,': 0.0, 'been:': 0.0, 'movement.': 0.0, 'vis-a-vis': 0.0, 'peaks': 0.0, 'lie': 0.0, 'here,': 0.0, 'upon': 0.0, 'mankind.': 0.0, 'papua\"!': 0.0, 'respected': 0.0, 'strength': 0.0, 'i,': 0.0, 'banten': 0.0, 'fierce': 0.0, 'conference,': 0.0, 'conference.': 0.0, 'papua\",': 0.0, 'papua\".': 0.0, 'event,': 0.0, 'tri-command:': 0.0, 'so': 0.0, 'i': 0.0, 'whole': 0.0, 'ditiro.': 0.0, 'indonesia': 0.0, 'part,': 0.0, 'paris,': 0.0, 'know': 0.0, 'wants': 0.0, 'stranglehold': 0.0, 'without': 0.0, 'command': 0.0, 'greatest': 0.0, 'thing,': 0.0, 'hearts': 0.0, 'the': 0.0, 'revolution,': 0.0, 'batavia.': 0.0, 'people:': 0.0, 'carefully,': 0.0, 'indonesia,': 0.0, 'composed': 0.0, 'republic?': 0.0, 'mind': 0.0, 'proposed': 0.0, 'heavily': 0.0, 'claiming': 0.0, 'officers,': 0.0, 'indonesia!': 0.0, 'actions': 0.0, 'officers': 0.0, 'front': 0.0, 'fighters': 0.0, 'indonesia?': 0.0, 'fact': 0.0, 'thanks': 0.0, 'human': 0.0, 'world': 0.0, 'followed': 0.0, 'yes': 0.0, 'instructed': 0.0, '[5]': 0.0, 'to': 0.0, 'previous': 0.0, 'cornelis': 0.0, 'leaders,': 0.0, 'death': 0.0, 'luns,': 0.0, 'luns.': 0.0, '27th': 0.0, 'point': 0.0, 'had': 0.0, 'economically,': 0.0, \"luns'\": 0.0, 'discuss': 0.0, 'republic.': 0.0, 'arrest': 0.0, 'spread': 0.0, 'pangeran': 0.0, 'attractive': 0.0, 'republic': 0.0, 'struck': 0.0, 'heavier': 0.0, 'lies,': 0.0, '\"here': 0.0, 'match': 0.0, 'take': 0.0, 'resolved': 0.0, '...': 0.0, 'indonesian': 0.0, 'march': 0.0, 'fact.': 0.0, 'vindicate': 0.0, 'government': 0.0, 'read': 0.0, 'dishonest,': 0.0, 'possible': 0.0, 'action.': 0.0, 'makes': 0.0, 'moment,': 0.0, 'groups.': 0.0, \"action'\": 0.0, 'accepted': 0.0, 'french': 0.0, 'desire': 0.0, 'like': 0.0, 'inviting': 0.0, 'peasants,': 0.0, 'states,': 0.0, 'already': 0.0, 'states.': 0.0, 'we,': 0.0, 'irian': 0.0, 'colonising': 0.0, '[10]': 0.0, 'become': 0.0, 'states?': 0.0, 'recognize': 0.0, 'actions,': 0.0, \"hero's\": 0.0, 'because': 0.0, 'deal': 0.0, 'doll': 0.0, 'underwent': 0.0, 'some': 0.0, 'authority': 0.0, 'tempered': 0.0, 'understood': 0.0, 'fine-sounding': 0.0, 'mighty': 0.0, 'respect': 0.0, 'proper': 0.0, 'indeed.': 0.0, 'london,': 0.0, 'recognition': 0.0, 'raya\".': 0.0, 'peace,': 0.0, 'politically,': 0.0, 'before.': 0.0, 'total': 0.0, 'women,': 0.0, 'magelang.': 0.0, 'women.': 0.0, 'magelang,': 0.0, 'armed': 0.0, 'untung': 0.0, 'politically.': 0.0, 'students': 0.0, 'speeches,': 0.0, 'tongues.': 0.0, 'honoured': 0.0, 'results.': 0.0, 'respects': 0.0, 'chains': 0.0, 'leader': 0.0, '?': 0.0, 'indonesia.': 0.0, 'conference': 0.0, 'says': 0.0, 'khaki': 0.0, 'power': 0.0, 'dropped': 0.0, 'night': 0.0, 'continuing': 0.0, 'congress.': 0.0, 'graduates': 0.0, 'how': 0.0, 'pieterszoon': 0.0, 'tjik': 0.0, 'although': 0.0, 'graduated': 0.0, 'tempering': 0.0, 'by': 0.0, 'earlier': 0.0, 'trickery': 0.0, 'helping': 0.0, 'about': 0.0, 'staff,': 0.0, 'would': 0.0, 'december,': 0.0, 'oh': 0.0, \"sukarno's\": 0.0, 'of': 0.0, 'am': 0.0, 'army': 0.0, 'recognized': 0.0, 'must': 0.0, 'papua': 0.0, 'sovereignty.': 0.0, 'pleaded,': 0.0, 'stand': 0.0, 'act': 0.0, 'uniting': 0.0, 'urges': 0.0, 'efforts': 0.0, 'referred': 0.0, 'out,': 0.0, 'navy,': 0.0, 'ties,': 0.0, 'mine!': 0.0, 'luns': 0.0, 'warfare.': 0.0, 'own': 0.0, 'formerly': 0.0, 'negotiate.': 0.0, 'into': 0.0, 'within': 0.0, 'confrontation': 0.0, 'nonsense': 0.0, 'cauldron': 0.0, 'two': 0.0, 'down': 0.0, 'thankful': 0.0, 'guard': 0.0, 'text-ed.)': 0.0, 'promise': 0.0, 'times.': 0.0, 'your': 0.0, 'militarily': 0.0, 'friends,': 0.0, 'later.': 0.0, 'existed': 0.0, 'striven': 0.0, 'van': 0.0, 'verbal': 0.0, 'prepare': 0.0, 'more,': 0.0, 'friends': 0.0, 'support': 0.0, 'flying': 0.0, 'question': 0.0, 'long': 0.0, 'fight': 0.0, 'prepared,': 0.0, 'president/': 0.0, 'why,': 0.0, 'recognised': 0.0, 'way': 0.0, 'forces.': 0.0, 'forces,': 0.0, 'was': 0.0, 'launching': 0.0, 'turned,': 0.0, 'indonesia-dutch': 0.0, 'you,': 0.0, 'an': 0.0, 'form': 0.0, 'what?': 0.0, 'java,': 0.0, 'decolonisation': 0.0, 'so,': 0.0, 'lie,': 0.0, 'here': 0.0, 'neutral': 0.0, 'land': 0.0, 'hear': 0.0, 'repeatedly': 0.0, 'true': 0.0, 'proposal': 0.0, 'land.': 0.0, 'he': 0.0, 'partitioning': 0.0, 'made': 0.0, '[14]': 0.0, 'chained': 0.0, 'this,': 0.0, 'signed': 0.0, 'this.': 0.0, 'placed': 0.0, 'manoeuvres.': 0.0, 'un': 0.0, 'diponegoro': 0.0, \"fire's\": 0.0, 'agree': 0.0, 'adorn': 0.0, 'side.': 0.0, 'prayed': 0.0, 'supreme': 0.0, 'proud': 0.0, 'suropati.': 0.0, 'begun': 0.0, 'gerwani': 0.0, 'internationalisation,': 0.0, 'strangle-hold': 0.0, 'year': 0.0, 'diplomacy,': 0.0, 'life': 0.0, 'general': 0.0, 'arms.': 0.0, 'side?': 0.0, 'as': 0.0, 'words,': 0.0, 'die.': 0.0, 'at': 0.0, 'our': 0.0, 'tiandradimuka': 0.0, 'trip': 0.0, 'are': 0.0, 'again': 0.0, 'us': 0.0, 'no': 0.0, '46': 0.0, 'fencing': 0.0, 'resolution.': 0.0, 'when': 0.0, 'reality': 0.0, 'economically.': 0.0, 'roses': 0.0, 'build': 0.0, 'setting': 0.0, 'indanesia': 0.0, 'themselves.': 0.0, 'you': 0.0, 'suffer,': 0.0, 'nice': 0.0, 'oh,': 0.0, 'move,': 0.0, 'decolonisation!': 0.0, 'indeed,': 0.0, 'sectors,': 0.0, 'decolonisation,': 0.0, 'knew': 0.0, 'decolonisation.': 0.0, 'rostrum,': 0.0, 'deeper,': 0.0, 'almighty,': 0.0, 'prepared': 0.0, \"let's\": 0.0, 'town': 0.0, 'meaning': 0.0, 'yes,': 0.0, 'intent': 0.0, 'recognise': 0.0, 'included': 0.0, '\"what': 0.0, 'shift': 0.0, 'ours.': 0.0, '13': 0.0, 'building': 0.0, 'onward!': 0.0, 'workers,': 0.0, 'for': 0.0, 'invest': 0.0, 'confirm': 0.0, 'humiliated': 0.0, 'flag': 0.0, 'together': 0.0, 'having': 0.0, 'confrontation.': 0.0, 'entirely,': 0.0, 'arisen': 0.0, 'came': 0.0, '\"national': 0.0, 'djelantik.': 0.0, '\"the': 0.0, 'resolution': 0.0, 'sounded': 0.0, 'minister': 0.0}]"
      ]
     },
     "execution_count": 12,
     "metadata": {},
     "output_type": "execute_result"
    }
   ],
   "source": [
    "sf['tfidf'] = gl.text_analytics.tf_idf(sf['bow'])\n",
    "sf['tfidf']"
   ]
  },
  {
   "cell_type": "markdown",
   "metadata": {},
   "source": [
    "## Text cleaning"
   ]
  },
  {
   "cell_type": "markdown",
   "metadata": {},
   "source": [
    "* remove all words do not occur at least twice in each document using"
   ]
  },
  {
   "cell_type": "code",
   "execution_count": 13,
   "metadata": {
    "collapsed": false
   },
   "outputs": [],
   "source": [
    "docs = sf['bow'].dict_trim_by_values(2)"
   ]
  },
  {
   "cell_type": "markdown",
   "metadata": {},
   "source": [
    "* GraphLab Create also contains a helper function called stopwords that returns a list of common words.\n",
    "We can use SArray.docs.dict_trim_by_keys to remove these words from the documents as a preprocessing step.\n",
    "NB: Currently only English words are available."
   ]
  },
  {
   "cell_type": "code",
   "execution_count": 14,
   "metadata": {
    "collapsed": true
   },
   "outputs": [],
   "source": [
    "docs = docs.dict_trim_by_keys(gl.text_analytics.stopwords(), exclude=True)"
   ]
  },
  {
   "cell_type": "code",
   "execution_count": 15,
   "metadata": {
    "collapsed": false
   },
   "outputs": [
    {
     "data": {
      "text/plain": [
       "{'\"papua': 5,\n",
       " '\"state': 7,\n",
       " '(the': 2,\n",
       " '-': 17,\n",
       " '16': 2,\n",
       " '17th': 6,\n",
       " '1945': 4,\n",
       " '1947,': 3,\n",
       " '1948,': 2,\n",
       " '1948.': 2,\n",
       " '1949,': 4,\n",
       " '1961.': 2,\n",
       " '19th': 4,\n",
       " '21st': 4,\n",
       " '27th': 6,\n",
       " ':': 3,\n",
       " '?': 3,\n",
       " 'academy,': 2,\n",
       " 'accompanied': 2,\n",
       " 'act.': 2,\n",
       " 'action': 7,\n",
       " 'actions': 2,\n",
       " 'again.': 2,\n",
       " 'ago': 3,\n",
       " 'agreed': 2,\n",
       " 'agung': 2,\n",
       " 'all,': 2,\n",
       " 'almighty': 3,\n",
       " 'alone.': 2,\n",
       " 'ambassadors': 2,\n",
       " 'and,': 5,\n",
       " 'anthem\".': 3,\n",
       " 'archipelago': 2,\n",
       " 'argument': 2,\n",
       " 'armed': 11,\n",
       " 'army': 2,\n",
       " 'asia,': 2,\n",
       " 'association': 2,\n",
       " 'attention': 2,\n",
       " 'august': 5,\n",
       " 'authority': 10,\n",
       " 'authority.': 3,\n",
       " 'before.': 3,\n",
       " 'began': 2,\n",
       " 'beginning': 2,\n",
       " 'begun': 2,\n",
       " 'bothered': 3,\n",
       " 'bring': 10,\n",
       " 'but,': 3,\n",
       " 'call': 3,\n",
       " 'called': 9,\n",
       " 'carried': 2,\n",
       " 'carry': 2,\n",
       " 'carrying': 6,\n",
       " 'change': 2,\n",
       " 'chief': 3,\n",
       " 'chiefs': 2,\n",
       " 'city': 2,\n",
       " 'colonisation.': 3,\n",
       " 'colonising.': 2,\n",
       " 'command': 15,\n",
       " 'command,': 2,\n",
       " 'command.': 3,\n",
       " 'command?': 2,\n",
       " 'commander': 5,\n",
       " 'common': 3,\n",
       " 'completely': 2,\n",
       " 'conference': 3,\n",
       " 'conference,': 3,\n",
       " 'confirm': 3,\n",
       " 'confront': 6,\n",
       " 'confrontation': 5,\n",
       " 'confrontation.': 2,\n",
       " 'continuing': 14,\n",
       " 'council': 3,\n",
       " 'countries,': 2,\n",
       " 'country': 2,\n",
       " 'de': 2,\n",
       " 'deal': 3,\n",
       " 'deceived,': 2,\n",
       " 'december': 7,\n",
       " 'december,': 4,\n",
       " 'decolonisation': 3,\n",
       " 'deeper,': 5,\n",
       " 'defeat': 10,\n",
       " 'defeated': 2,\n",
       " 'defence': 3,\n",
       " 'defend': 2,\n",
       " \"didn't\": 2,\n",
       " 'diplomacy,': 3,\n",
       " 'diplomats,': 2,\n",
       " 'diponegoro': 2,\n",
       " 'do?': 5,\n",
       " \"don't\": 3,\n",
       " 'dr.': 4,\n",
       " 'dutch': 39,\n",
       " 'dutch,': 3,\n",
       " 'dutch.': 4,\n",
       " 'duty': 3,\n",
       " 'east': 4,\n",
       " 'efforts': 3,\n",
       " 'end': 4,\n",
       " 'endorse': 3,\n",
       " 'enter': 2,\n",
       " 'entire': 8,\n",
       " 'establishing': 3,\n",
       " 'establishment': 2,\n",
       " 'execute': 3,\n",
       " 'existed': 2,\n",
       " 'express': 2,\n",
       " 'face': 2,\n",
       " 'fact': 8,\n",
       " 'fact,': 4,\n",
       " 'fencing': 2,\n",
       " 'fighters': 3,\n",
       " 'fire': 6,\n",
       " 'firmly': 2,\n",
       " 'first,': 3,\n",
       " 'flag': 12,\n",
       " 'flag.': 4,\n",
       " 'flying': 10,\n",
       " 'force': 2,\n",
       " 'force,': 2,\n",
       " 'forces': 8,\n",
       " 'forces.': 2,\n",
       " 'foreign': 3,\n",
       " 'free,': 2,\n",
       " 'friendly': 2,\n",
       " 'friends': 3,\n",
       " 'friends,': 15,\n",
       " 'friends:': 3,\n",
       " 'front': 2,\n",
       " 'full': 3,\n",
       " 'general': 4,\n",
       " 'give': 8,\n",
       " 'god': 4,\n",
       " 'government': 2,\n",
       " 'graduates': 2,\n",
       " 'great': 4,\n",
       " 'greater': 4,\n",
       " 'grew': 2,\n",
       " 'guard': 2,\n",
       " 'guerilla': 3,\n",
       " 'hearts': 3,\n",
       " 'helped': 3,\n",
       " 'here,': 2,\n",
       " 'here.': 3,\n",
       " 'here:': 2,\n",
       " \"hero's\": 2,\n",
       " 'hold': 2,\n",
       " 'honoured': 9,\n",
       " 'hundreds': 7,\n",
       " 'ill': 2,\n",
       " 'imam': 2,\n",
       " 'imperialism': 2,\n",
       " 'imperialism,': 2,\n",
       " 'imperialism.': 6,\n",
       " 'imperialist': 2,\n",
       " 'imperialists': 3,\n",
       " 'imperialists,': 2,\n",
       " 'including': 2,\n",
       " 'indeed,': 3,\n",
       " 'independence': 6,\n",
       " 'independence,': 6,\n",
       " 'independence.': 4,\n",
       " 'independent': 2,\n",
       " 'indonesia': 29,\n",
       " \"indonesia's\": 5,\n",
       " 'indonesia,': 12,\n",
       " 'indonesia-dutch': 4,\n",
       " 'indonesia.': 18,\n",
       " 'indonesia?': 2,\n",
       " 'indonesian': 31,\n",
       " 'instruction': 2,\n",
       " 'international': 5,\n",
       " 'internationalised.': 2,\n",
       " 'introducing': 2,\n",
       " 'invest': 2,\n",
       " 'irian': 32,\n",
       " 'irian!': 3,\n",
       " 'irian,': 11,\n",
       " 'irian.': 8,\n",
       " 'is,': 3,\n",
       " 'it.': 2,\n",
       " 'jogjakarta': 4,\n",
       " 'jogjakarta,': 3,\n",
       " 'july': 2,\n",
       " 'july,': 2,\n",
       " 'know,': 5,\n",
       " 'land,': 2,\n",
       " 'land.': 2,\n",
       " 'leaders': 3,\n",
       " \"let's\": 2,\n",
       " 'liberate': 5,\n",
       " 'liberation': 2,\n",
       " 'lied': 2,\n",
       " 'look,': 2,\n",
       " 'love': 2,\n",
       " 'luns': 5,\n",
       " 'made': 6,\n",
       " 'make': 2,\n",
       " 'march': 3,\n",
       " 'me,': 2,\n",
       " 'means': 4,\n",
       " 'meeting': 2,\n",
       " 'men,': 3,\n",
       " 'mighty': 3,\n",
       " 'military': 11,\n",
       " 'million': 2,\n",
       " 'minister': 2,\n",
       " 'ministers,': 2,\n",
       " 'mobilisation': 4,\n",
       " 'moment': 4,\n",
       " 'moment,': 3,\n",
       " 'more,': 2,\n",
       " 'move': 3,\n",
       " 'move,': 2,\n",
       " 'nation': 10,\n",
       " 'nation,': 2,\n",
       " 'nation.': 3,\n",
       " 'national': 10,\n",
       " 'nations': 9,\n",
       " 'nations.': 4,\n",
       " 'native': 5,\n",
       " 'netherlands': 3,\n",
       " 'no!': 5,\n",
       " 'no,': 3,\n",
       " 'no.': 4,\n",
       " 'now,': 15,\n",
       " 'officers': 4,\n",
       " 'oh,': 5,\n",
       " 'on,': 7,\n",
       " 'one,': 2,\n",
       " 'opposition': 2,\n",
       " 'order': 7,\n",
       " 'out,': 5,\n",
       " 'outcome': 3,\n",
       " 'o\\xc2\\xa3': 2,\n",
       " 'papua': 2,\n",
       " 'papua\"!': 3,\n",
       " 'papua\",': 5,\n",
       " 'part': 3,\n",
       " 'partitioning': 2,\n",
       " 'people': 44,\n",
       " 'people,': 6,\n",
       " 'people.': 6,\n",
       " 'policy': 7,\n",
       " 'policy.': 2,\n",
       " 'political': 3,\n",
       " 'positively': 2,\n",
       " 'present': 3,\n",
       " 'president': 4,\n",
       " 'proposal': 3,\n",
       " 'proposal.': 2,\n",
       " 'puppet': 5,\n",
       " 'pursue': 2,\n",
       " 'pursues': 2,\n",
       " 'putting': 3,\n",
       " 'question': 4,\n",
       " 'rained': 4,\n",
       " 'ready': 4,\n",
       " 'real': 2,\n",
       " 'reason': 2,\n",
       " 'received': 2,\n",
       " 'recognised': 3,\n",
       " 'red': 12,\n",
       " 'referred': 2,\n",
       " 'region': 4,\n",
       " 'repeatedly,': 2,\n",
       " 'representatives': 7,\n",
       " 'republic': 33,\n",
       " 'republic,': 3,\n",
       " 'republic.': 8,\n",
       " 'respect': 2,\n",
       " 'result': 5,\n",
       " 'returned': 3,\n",
       " 'revolution': 2,\n",
       " 'revolution,': 2,\n",
       " 'rome': 2,\n",
       " 'round': 7,\n",
       " 'sabang': 3,\n",
       " 'said,': 4,\n",
       " 'said:': 6,\n",
       " 'say:': 3,\n",
       " 'secretary': 2,\n",
       " 'self-determination.': 3,\n",
       " 'set': 6,\n",
       " 'setting': 3,\n",
       " 'short': 2,\n",
       " 'short,': 2,\n",
       " 'smart': 2,\n",
       " 'so,': 2,\n",
       " 'so-called': 3,\n",
       " 'socialist': 13,\n",
       " 'sovereignty': 3,\n",
       " 'speeches': 2,\n",
       " 'spirit': 16,\n",
       " 'spread': 5,\n",
       " 'stand': 4,\n",
       " 'standing': 2,\n",
       " 'stands': 2,\n",
       " 'state': 18,\n",
       " 'state,': 8,\n",
       " 'state.': 2,\n",
       " 'states': 5,\n",
       " 'states,': 6,\n",
       " 'states.': 6,\n",
       " 'strangle-hold': 2,\n",
       " 'strength': 2,\n",
       " 'strong': 2,\n",
       " 'strove,': 2,\n",
       " 'struck': 2,\n",
       " 'struggle': 12,\n",
       " 'struggle,': 2,\n",
       " 'struggle.': 2,\n",
       " 'subandrio': 4,\n",
       " 'subandrio,': 2,\n",
       " 'succeeded': 2,\n",
       " 'sukarno': 6,\n",
       " 'sukarno,': 2,\n",
       " 'sultan': 4,\n",
       " 'supreme': 4,\n",
       " 'table': 8,\n",
       " 'talk': 3,\n",
       " 'talks,': 3,\n",
       " 'territory': 16,\n",
       " 'text': 2,\n",
       " \"that's\": 2,\n",
       " 'them.': 2,\n",
       " 'themselves.': 2,\n",
       " 'there,': 5,\n",
       " 'there.': 2,\n",
       " 'this.': 4,\n",
       " 'time': 8,\n",
       " 'time,': 3,\n",
       " 'times': 3,\n",
       " 'today': 3,\n",
       " 'today,': 3,\n",
       " 'told': 2,\n",
       " 'too,': 2,\n",
       " 'too.': 2,\n",
       " 'total': 2,\n",
       " 'trickery': 2,\n",
       " 'tried,': 4,\n",
       " 'true': 2,\n",
       " 'turn': 2,\n",
       " 'un,': 10,\n",
       " 'un.': 2,\n",
       " 'unfurl': 6,\n",
       " 'union.': 2,\n",
       " 'unitary': 2,\n",
       " 'united': 14,\n",
       " 'up,': 5,\n",
       " 'us,': 4,\n",
       " 'us.': 4,\n",
       " 'van': 3,\n",
       " 'vindicate': 2,\n",
       " 'vis-a-vis': 2,\n",
       " 'waged': 2,\n",
       " 'warfare': 2,\n",
       " 'we,': 4,\n",
       " 'west': 55,\n",
       " 'white': 11,\n",
       " 'why,': 5,\n",
       " 'words,': 2,\n",
       " 'world': 3,\n",
       " 'world,': 2,\n",
       " 'world.': 3,\n",
       " 'year': 2,\n",
       " 'years': 7,\n",
       " 'years,': 5,\n",
       " 'yes,': 13,\n",
       " 'york': 2,\n",
       " 'you,': 5,\n",
       " 'young': 4,\n",
       " 'youth': 3}"
      ]
     },
     "execution_count": 15,
     "metadata": {},
     "output_type": "execute_result"
    }
   ],
   "source": [
    "docs[0]"
   ]
  },
  {
   "cell_type": "markdown",
   "metadata": {},
   "source": [
    "* the tokenizer transforms each row into an ordered list of strings that represents the a simpler version of the Penn-Tree-Bank-style (PTB-style) tokenization of that row's document. \n",
    "* The representation of a document provided by PTB-style of tokenization is essential for sequence-tagging, parsing, bag-of-words treatment, and any text analytics task that requires word-level granularity. For a description of this style of tokenization, see [tokenization example](https://www.cis.upenn.edu/~treebank/tokenization.html.)"
   ]
  },
  {
   "cell_type": "code",
   "execution_count": 16,
   "metadata": {
    "collapsed": false
   },
   "outputs": [
    {
     "data": {
      "text/html": [
       "<div style=\"max-height:1000px;max-width:1500px;overflow:auto;\"><table frame=\"box\" rules=\"cols\">\n",
       "    <tr>\n",
       "        <th style=\"padding-left: 1em; padding-right: 1em; text-align: center\">tokens</th>\n",
       "    </tr>\n",
       "    <tr>\n",
       "        <td style=\"padding-left: 1em; padding-right: 1em; text-align: center; vertical-align: top\">[Friends, As, was, said,<br>by, the, Sultan, just, ...</td>\n",
       "    </tr>\n",
       "</table>\n",
       "[1 rows x 1 columns]<br/>\n",
       "</div>"
      ],
      "text/plain": [
       "Columns:\n",
       "\ttokens\tlist\n",
       "\n",
       "Rows: 1\n",
       "\n",
       "Data:\n",
       "+-------------------------------+\n",
       "|             tokens            |\n",
       "+-------------------------------+\n",
       "| [Friends, As, was, said, b... |\n",
       "+-------------------------------+\n",
       "[1 rows x 1 columns]"
      ]
     },
     "execution_count": 16,
     "metadata": {},
     "output_type": "execute_result"
    }
   ],
   "source": [
    "tokenized_speech = gl.SFrame()\n",
    "tokenized_speech['tokens'] = gl.text_analytics.tokenize(sf['speech'])\n",
    "tokenized_speech"
   ]
  },
  {
   "cell_type": "markdown",
   "metadata": {},
   "source": [
    "## Part of Speech Extraction"
   ]
  },
  {
   "cell_type": "markdown",
   "metadata": {},
   "source": [
    "* Highlight unique nouns in your text, identify adjectives with the high sentiment scores, or pull out nouns to generate candidate entities. \n",
    "The extract_parts_of_speech method parses the text in each element and extracts the words that are a given part of speech. \n",
    "For instance, to find all instances of adjectives:"
   ]
  },
  {
   "cell_type": "code",
   "execution_count": 17,
   "metadata": {
    "collapsed": false
   },
   "outputs": [
    {
     "data": {
      "text/html": [
       "<div style=\"max-height:1000px;max-width:1500px;overflow:auto;\"><table frame=\"box\" rules=\"cols\">\n",
       "    <tr>\n",
       "        <th style=\"padding-left: 1em; padding-right: 1em; text-align: center\">adjectives</th>\n",
       "    </tr>\n",
       "    <tr>\n",
       "        <td style=\"padding-left: 1em; padding-right: 1em; text-align: center; vertical-align: top\">{'ADJ': {'all': 5,<br>'heartfelt': 1, 'human': ...</td>\n",
       "    </tr>\n",
       "</table>\n",
       "[1 rows x 1 columns]<br/>\n",
       "</div>"
      ],
      "text/plain": [
       "Columns:\n",
       "\tadjectives\tdict\n",
       "\n",
       "Rows: 1\n",
       "\n",
       "Data:\n",
       "+-------------------------------+\n",
       "|           adjectives          |\n",
       "+-------------------------------+\n",
       "| {'ADJ': {'all': 5, 'heartf... |\n",
       "+-------------------------------+\n",
       "[1 rows x 1 columns]"
      ]
     },
     "execution_count": 17,
     "metadata": {},
     "output_type": "execute_result"
    }
   ],
   "source": [
    "parts_of_speech = gl.SFrame()\n",
    "parts_of_speech['adjectives'] = gl.text_analytics.extract_parts_of_speech(sf['speech'],\n",
    "                                                  chosen_pos=[gl.text_analytics.PartOfSpeech.ADJ])\n",
    "parts_of_speech"
   ]
  },
  {
   "cell_type": "markdown",
   "metadata": {},
   "source": [
    "## Sentence Splitting"
   ]
  },
  {
   "cell_type": "markdown",
   "metadata": {},
   "source": [
    "* The sentence splitter splits by sentence and outputs a list of sentences. \n",
    "This aids in anlysis at the sentence level.\n",
    "For example, you may want a sentiment score for each sentence in a document.\n",
    "The following command accomplishes this for you:"
   ]
  },
  {
   "cell_type": "code",
   "execution_count": 18,
   "metadata": {
    "collapsed": false
   },
   "outputs": [
    {
     "data": {
      "text/html": [
       "<div style=\"max-height:1000px;max-width:1500px;overflow:auto;\"><table frame=\"box\" rules=\"cols\">\n",
       "    <tr>\n",
       "        <th style=\"padding-left: 1em; padding-right: 1em; text-align: center\">sent</th>\n",
       "    </tr>\n",
       "    <tr>\n",
       "        <td style=\"padding-left: 1em; padding-right: 1em; text-align: center; vertical-align: top\">[Friends  As was said by<br>the Sultan just now, ...</td>\n",
       "    </tr>\n",
       "</table>\n",
       "[1 rows x 1 columns]<br/>\n",
       "</div>"
      ],
      "text/plain": [
       "Columns:\n",
       "\tsent\tlist\n",
       "\n",
       "Rows: 1\n",
       "\n",
       "Data:\n",
       "+-------------------------------+\n",
       "|              sent             |\n",
       "+-------------------------------+\n",
       "| [Friends  As was said by t... |\n",
       "+-------------------------------+\n",
       "[1 rows x 1 columns]"
      ]
     },
     "execution_count": 18,
     "metadata": {},
     "output_type": "execute_result"
    }
   ],
   "source": [
    "sentences = gl.SFrame()\n",
    "sentences['sent'] = gl.text_analytics.split_by_sentence(sf['speech'])\n",
    "sentences"
   ]
  },
  {
   "cell_type": "markdown",
   "metadata": {},
   "source": [
    "## Create a topic model"
   ]
  },
  {
   "cell_type": "code",
   "execution_count": 19,
   "metadata": {
    "collapsed": false
   },
   "outputs": [],
   "source": [
    "docs = gl.text_analytics.count_words(sf['speech'])\n",
    "docs = docs.dict_trim_by_keys(gl.text_analytics.stopwords(), exclude=True)"
   ]
  },
  {
   "cell_type": "markdown",
   "metadata": {},
   "source": [
    "* Learn topic model"
   ]
  },
  {
   "cell_type": "code",
   "execution_count": 20,
   "metadata": {
    "collapsed": false
   },
   "outputs": [
    {
     "data": {
      "text/html": [
       "<pre>Learning a topic model</pre>"
      ],
      "text/plain": [
       "Learning a topic model"
      ]
     },
     "metadata": {},
     "output_type": "display_data"
    },
    {
     "data": {
      "text/html": [
       "<pre>       Number of documents         1</pre>"
      ],
      "text/plain": [
       "       Number of documents         1"
      ]
     },
     "metadata": {},
     "output_type": "display_data"
    },
    {
     "data": {
      "text/html": [
       "<pre>           Vocabulary size      1051</pre>"
      ],
      "text/plain": [
       "           Vocabulary size      1051"
      ]
     },
     "metadata": {},
     "output_type": "display_data"
    },
    {
     "data": {
      "text/html": [
       "<pre>   Running collapsed Gibbs sampling</pre>"
      ],
      "text/plain": [
       "   Running collapsed Gibbs sampling"
      ]
     },
     "metadata": {},
     "output_type": "display_data"
    },
    {
     "data": {
      "text/html": [
       "<pre>+-----------+---------------+----------------+-----------------+</pre>"
      ],
      "text/plain": [
       "+-----------+---------------+----------------+-----------------+"
      ]
     },
     "metadata": {},
     "output_type": "display_data"
    },
    {
     "data": {
      "text/html": [
       "<pre>| Iteration | Elapsed Time  | Tokens/Second  | Est. Perplexity |</pre>"
      ],
      "text/plain": [
       "| Iteration | Elapsed Time  | Tokens/Second  | Est. Perplexity |"
      ]
     },
     "metadata": {},
     "output_type": "display_data"
    },
    {
     "data": {
      "text/html": [
       "<pre>+-----------+---------------+----------------+-----------------+</pre>"
      ],
      "text/plain": [
       "+-----------+---------------+----------------+-----------------+"
      ]
     },
     "metadata": {},
     "output_type": "display_data"
    },
    {
     "data": {
      "text/html": [
       "<pre>| 10        | 10.806ms      | 1.38289e+06    | 0               |</pre>"
      ],
      "text/plain": [
       "| 10        | 10.806ms      | 1.38289e+06    | 0               |"
      ]
     },
     "metadata": {},
     "output_type": "display_data"
    },
    {
     "data": {
      "text/html": [
       "<pre>+-----------+---------------+----------------+-----------------+</pre>"
      ],
      "text/plain": [
       "+-----------+---------------+----------------+-----------------+"
      ]
     },
     "metadata": {},
     "output_type": "display_data"
    }
   ],
   "source": [
    "model = gl.topic_model.create(docs)"
   ]
  },
  {
   "cell_type": "code",
   "execution_count": 21,
   "metadata": {
    "collapsed": false
   },
   "outputs": [
    {
     "name": "stdout",
     "output_type": "stream",
     "text": [
      "+-------+----------+-----------------+\n",
      "| topic |   word   |      score      |\n",
      "+-------+----------+-----------------+\n",
      "|   0   | command  | 0.0513430805848 |\n",
      "|   0   | friends, | 0.0513430805848 |\n",
      "|   0   | struggle | 0.0411424685481 |\n",
      "|   0   |  irian.  | 0.0275416524991 |\n",
      "|   0   |   fact   | 0.0275416524991 |\n",
      "|   1   |    -     | 0.0508777149658 |\n",
      "|   1   |  spirit  |  0.047902409997 |\n",
      "|   1   |  called  | 0.0270752752157 |\n",
      "|   1   |  said:   | 0.0181493603094 |\n",
      "|   1   | people.  | 0.0181493603094 |\n",
      "+-------+----------+-----------------+\n",
      "[50 rows x 3 columns]\n",
      "Note: Only the head of the SFrame is printed.\n",
      "You can use print_rows(num_rows=m, num_columns=n) to print more rows and columns.\n"
     ]
    }
   ],
   "source": [
    "print model.get_topics()"
   ]
  },
  {
   "cell_type": "code",
   "execution_count": 22,
   "metadata": {
    "collapsed": false
   },
   "outputs": [
    {
     "name": "stdout",
     "output_type": "stream",
     "text": [
      "+-------------------------------+\n",
      "|             words             |\n",
      "+-------------------------------+\n",
      "| [command, friends,, strugg... |\n",
      "| [-, spirit, called, people... |\n",
      "| [order, fire, imperialism.... |\n",
      "| [republic, irian, indonesi... |\n",
      "| [indonesian, armed, white,... |\n",
      "| [indonesia., united, bring... |\n",
      "| [dutch, now,, indonesia,, ... |\n",
      "| [west, people, territory, ... |\n",
      "| [socialist, people,, state... |\n",
      "| [yes,, flying, un,, nation... |\n",
      "+-------------------------------+\n",
      "[10 rows x 1 columns]\n",
      "\n"
     ]
    }
   ],
   "source": [
    "print model.get_topics(output_type='topic_words')"
   ]
  },
  {
   "cell_type": "code",
   "execution_count": 23,
   "metadata": {
    "collapsed": false
   },
   "outputs": [
    {
     "data": {
      "text/plain": [
       "Class                          : TopicModel\n",
       "\n",
       "Schema\n",
       "------\n",
       "Vocabulary Size                : 1051\n",
       "\n",
       "Settings\n",
       "--------\n",
       "Number of Topics               : 10\n",
       "alpha                          : 5.0\n",
       "beta                           : 0.1\n",
       "Iterations                     : 10\n",
       "Training time                  : 1.0156\n",
       "Verbose                        : False\n",
       "\n",
       "Accessible fields             : \n",
       "m['topics']                   : An SFrame containing the topics.\n",
       "m['vocabulary']               : An SArray containing the words in the vocabulary.\n",
       "Useful methods                : \n",
       "m.get_topics()                : Get the most probable words per topic.\n",
       "m.predict(new_docs)           : Make predictions for new documents."
      ]
     },
     "execution_count": 23,
     "metadata": {},
     "output_type": "execute_result"
    }
   ],
   "source": [
    "model"
   ]
  },
  {
   "cell_type": "markdown",
   "metadata": {},
   "source": [
    "* To predict the topic of a given document, one can get an SArray of integers containing the most probable topic ids:\n"
   ]
  },
  {
   "cell_type": "code",
   "execution_count": 24,
   "metadata": {
    "collapsed": true
   },
   "outputs": [],
   "source": [
    "pred = model.predict(docs)"
   ]
  },
  {
   "cell_type": "markdown",
   "metadata": {},
   "source": [
    "* Combining the above method with standard SFrame capabilities, one can use predict to find documents related to a particular topic\n"
   ]
  },
  {
   "cell_type": "code",
   "execution_count": 25,
   "metadata": {
    "collapsed": true
   },
   "outputs": [],
   "source": [
    "docs_in_topic_0 = docs[model.predict(docs) == 0]"
   ]
  },
  {
   "cell_type": "code",
   "execution_count": 26,
   "metadata": {
    "collapsed": false
   },
   "outputs": [
    {
     "data": {
      "text/plain": [
       "dtype: array\n",
       "Rows: 1\n",
       "[array('d', [0.06084115965700286, 0.10085749285422621, 0.0726827276439363, 0.13679052674561046, 0.10208248264597795, 0.08125765618619844, 0.13352388730093917, 0.1416904859126174, 0.07186606778276848, 0.09840751327072274])]"
      ]
     },
     "execution_count": 26,
     "metadata": {},
     "output_type": "execute_result"
    }
   ],
   "source": [
    "pred = model.predict(docs, output_type='probability')\n",
    "pred"
   ]
  },
  {
   "cell_type": "code",
   "execution_count": 27,
   "metadata": {
    "collapsed": false
   },
   "outputs": [
    {
     "data": {
      "text/plain": [
       "dtype: str\n",
       "Rows: 1051\n",
       "['3.', 'colonialism', 'perform', 'context', '[15]', 'read', 'executed', 'sign', 'prepare', 'cemeteries', 'adorn', \"hero's\", 'lie', 'killed', 'monginsidi', 'movement.', 'hasannudin.', 'untung', 'djoko', 'teuku', 'bondjol.', 'imam', 'power', \"coen's\", 'hanjokrokusumo,', 'i,', 'fight', 'loves', 'hearts', 'continuing', '[14]', 'commander', \"sukarno's\", 'support', 'word', 'desire', 'expression', 'supreme', 'giving', 'groups', 'workers,', 'groups.', 'religious', 'land', 'khaki', 'me.', 'republic?', '[sic]', 'urges', 'enjoy', 'actions,', 'briefly,', 'die.', 'speculating,', 'prayed', 'hope', 'already.', 'sukarno.', 'speaking.', 'onward!', '2,000', 'helping', 'africa,', 'peoples,', 'million', 'indonesia!', 'repeatedly,', 'onwards.', '[13]', 'make.', 'friends.', 'oppose', 'demanding', 'carry', 'trip', 'unitary', 'establish', 'dies.', 'ed.)', 'ditiro.', 'imperialists,', 'vindicate', 'they,', 'side?', 'thankful', 'wrong', 'intent', 'neutral', 'policy.', 'middle,', '1.', 'imagine', \"let's\", 'gerwani', 'women', 'claim', 'leaders,', 'fitting?', 'accuse', 'that,', ... ]"
      ]
     },
     "execution_count": 27,
     "metadata": {},
     "output_type": "execute_result"
    }
   ],
   "source": [
    "model['vocabulary']"
   ]
  },
  {
   "cell_type": "code",
   "execution_count": 28,
   "metadata": {
    "collapsed": false
   },
   "outputs": [
    {
     "data": {
      "text/html": [
       "<div style=\"max-height:1000px;max-width:1500px;overflow:auto;\"><table frame=\"box\" rules=\"cols\">\n",
       "    <tr>\n",
       "        <th style=\"padding-left: 1em; padding-right: 1em; text-align: center\">topic_probabilities</th>\n",
       "        <th style=\"padding-left: 1em; padding-right: 1em; text-align: center\">vocabulary</th>\n",
       "    </tr>\n",
       "    <tr>\n",
       "        <td style=\"padding-left: 1em; padding-right: 1em; text-align: center; vertical-align: top\">[0.000340020401224,<br>0.000297530496876, ...</td>\n",
       "        <td style=\"padding-left: 1em; padding-right: 1em; text-align: center; vertical-align: top\">3.</td>\n",
       "    </tr>\n",
       "    <tr>\n",
       "        <td style=\"padding-left: 1em; padding-right: 1em; text-align: center; vertical-align: top\">[0.000340020401224,<br>0.000297530496876, ...</td>\n",
       "        <td style=\"padding-left: 1em; padding-right: 1em; text-align: center; vertical-align: top\">colonialism</td>\n",
       "    </tr>\n",
       "    <tr>\n",
       "        <td style=\"padding-left: 1em; padding-right: 1em; text-align: center; vertical-align: top\">[0.000340020401224,<br>0.000297530496876, ...</td>\n",
       "        <td style=\"padding-left: 1em; padding-right: 1em; text-align: center; vertical-align: top\">perform</td>\n",
       "    </tr>\n",
       "    <tr>\n",
       "        <td style=\"padding-left: 1em; padding-right: 1em; text-align: center; vertical-align: top\">[0.000340020401224,<br>0.000297530496876, ...</td>\n",
       "        <td style=\"padding-left: 1em; padding-right: 1em; text-align: center; vertical-align: top\">context</td>\n",
       "    </tr>\n",
       "    <tr>\n",
       "        <td style=\"padding-left: 1em; padding-right: 1em; text-align: center; vertical-align: top\">[0.000340020401224,<br>0.000297530496876, ...</td>\n",
       "        <td style=\"padding-left: 1em; padding-right: 1em; text-align: center; vertical-align: top\">[15]</td>\n",
       "    </tr>\n",
       "    <tr>\n",
       "        <td style=\"padding-left: 1em; padding-right: 1em; text-align: center; vertical-align: top\">[0.000340020401224,<br>0.000297530496876, ...</td>\n",
       "        <td style=\"padding-left: 1em; padding-right: 1em; text-align: center; vertical-align: top\">read</td>\n",
       "    </tr>\n",
       "    <tr>\n",
       "        <td style=\"padding-left: 1em; padding-right: 1em; text-align: center; vertical-align: top\">[0.000340020401224,<br>0.000297530496876, ...</td>\n",
       "        <td style=\"padding-left: 1em; padding-right: 1em; text-align: center; vertical-align: top\">executed</td>\n",
       "    </tr>\n",
       "    <tr>\n",
       "        <td style=\"padding-left: 1em; padding-right: 1em; text-align: center; vertical-align: top\">[0.000340020401224,<br>0.000297530496876, ...</td>\n",
       "        <td style=\"padding-left: 1em; padding-right: 1em; text-align: center; vertical-align: top\">sign</td>\n",
       "    </tr>\n",
       "    <tr>\n",
       "        <td style=\"padding-left: 1em; padding-right: 1em; text-align: center; vertical-align: top\">[0.000340020401224,<br>0.000297530496876, ...</td>\n",
       "        <td style=\"padding-left: 1em; padding-right: 1em; text-align: center; vertical-align: top\">prepare</td>\n",
       "    </tr>\n",
       "    <tr>\n",
       "        <td style=\"padding-left: 1em; padding-right: 1em; text-align: center; vertical-align: top\">[0.000340020401224,<br>0.000297530496876, ...</td>\n",
       "        <td style=\"padding-left: 1em; padding-right: 1em; text-align: center; vertical-align: top\">cemeteries</td>\n",
       "    </tr>\n",
       "</table>\n",
       "[1051 rows x 2 columns]<br/>Note: Only the head of the SFrame is printed.<br/>You can use print_rows(num_rows=m, num_columns=n) to print more rows and columns.\n",
       "</div>"
      ],
      "text/plain": [
       "Columns:\n",
       "\ttopic_probabilities\tarray\n",
       "\tvocabulary\tstr\n",
       "\n",
       "Rows: 1051\n",
       "\n",
       "Data:\n",
       "+-------------------------------+-------------+\n",
       "|      topic_probabilities      |  vocabulary |\n",
       "+-------------------------------+-------------+\n",
       "| [0.000340020401224, 0.0002... |      3.     |\n",
       "| [0.000340020401224, 0.0002... | colonialism |\n",
       "| [0.000340020401224, 0.0002... |   perform   |\n",
       "| [0.000340020401224, 0.0002... |   context   |\n",
       "| [0.000340020401224, 0.0002... |     [15]    |\n",
       "| [0.000340020401224, 0.0002... |     read    |\n",
       "| [0.000340020401224, 0.0002... |   executed  |\n",
       "| [0.000340020401224, 0.0002... |     sign    |\n",
       "| [0.000340020401224, 0.0002... |   prepare   |\n",
       "| [0.000340020401224, 0.0002... |  cemeteries |\n",
       "+-------------------------------+-------------+\n",
       "[1051 rows x 2 columns]\n",
       "Note: Only the head of the SFrame is printed.\n",
       "You can use print_rows(num_rows=m, num_columns=n) to print more rows and columns."
      ]
     },
     "execution_count": 28,
     "metadata": {},
     "output_type": "execute_result"
    }
   ],
   "source": [
    "model['topics']"
   ]
  },
  {
   "cell_type": "markdown",
   "metadata": {},
   "source": [
    "* save and load models"
   ]
  },
  {
   "cell_type": "code",
   "execution_count": 29,
   "metadata": {
    "collapsed": true
   },
   "outputs": [],
   "source": [
    "os.chdir(\"../text_analysis/data/\")"
   ]
  },
  {
   "cell_type": "code",
   "execution_count": 30,
   "metadata": {
    "collapsed": false
   },
   "outputs": [],
   "source": [
    "model.save('sukarno_jogyakarta_model')\n",
    "sukarno_model = gl.load_model('sukarno_jogyakarta_model')"
   ]
  },
  {
   "cell_type": "code",
   "execution_count": null,
   "metadata": {
    "collapsed": true
   },
   "outputs": [],
   "source": []
  }
 ],
 "metadata": {
  "anaconda-cloud": {},
  "kernelspec": {
   "display_name": "Python [gl-env]",
   "language": "python",
   "name": "Python [gl-env]"
  },
  "language_info": {
   "codemirror_mode": {
    "name": "ipython",
    "version": 2
   },
   "file_extension": ".py",
   "mimetype": "text/x-python",
   "name": "python",
   "nbconvert_exporter": "python",
   "pygments_lexer": "ipython2",
   "version": "2.7.12"
  }
 },
 "nbformat": 4,
 "nbformat_minor": 0
}
