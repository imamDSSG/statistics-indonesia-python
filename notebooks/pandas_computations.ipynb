{
 "cells": [
  {
   "cell_type": "code",
   "execution_count": 1,
   "metadata": {
    "collapsed": true
   },
   "outputs": [],
   "source": [
    "import os\n",
    "import matplotlib.pyplot as plt\n",
    "import pandas as pd "
   ]
  },
  {
   "cell_type": "code",
   "execution_count": 2,
   "metadata": {
    "collapsed": true
   },
   "outputs": [],
   "source": [
    "# alternative way to import file without pre-setting column names\n",
    "#indonesia_education = pd.read_csv(\"../data/levelofeducation.csv\")\n",
    "#indonesia_education.columns = education_columns"
   ]
  },
  {
   "cell_type": "code",
   "execution_count": 3,
   "metadata": {
    "collapsed": true
   },
   "outputs": [],
   "source": [
    "education_columns = [\"province\", \"province name\", \"city code\", \"city name\",\n",
    "                     \"education level\", \"male\", \"female\", \"latitude\", \"longitude\"]"
   ]
  },
  {
   "cell_type": "code",
   "execution_count": 4,
   "metadata": {
    "collapsed": false
   },
   "outputs": [],
   "source": [
    "indonesia_education = pd.read_csv(\"../data/levelofeducation.csv\", names = education_columns, \n",
    "                                 header = 0, index_col = 0)"
   ]
  },
  {
   "cell_type": "code",
   "execution_count": 5,
   "metadata": {
    "collapsed": false
   },
   "outputs": [
    {
     "data": {
      "text/html": [
       "<div>\n",
       "<table border=\"1\" class=\"dataframe\">\n",
       "  <thead>\n",
       "    <tr style=\"text-align: right;\">\n",
       "      <th></th>\n",
       "      <th>province name</th>\n",
       "      <th>city code</th>\n",
       "      <th>city name</th>\n",
       "      <th>education level</th>\n",
       "      <th>male</th>\n",
       "      <th>female</th>\n",
       "      <th>latitude</th>\n",
       "      <th>longitude</th>\n",
       "    </tr>\n",
       "    <tr>\n",
       "      <th>province</th>\n",
       "      <th></th>\n",
       "      <th></th>\n",
       "      <th></th>\n",
       "      <th></th>\n",
       "      <th></th>\n",
       "      <th></th>\n",
       "      <th></th>\n",
       "      <th></th>\n",
       "    </tr>\n",
       "  </thead>\n",
       "  <tbody>\n",
       "    <tr>\n",
       "      <th>11</th>\n",
       "      <td>Prov. Nanggroe Aceh Darussalam</td>\n",
       "      <td>1101</td>\n",
       "      <td>Kab. Simeulue</td>\n",
       "      <td>Tidak/Belum Tamat SD</td>\n",
       "      <td>1209</td>\n",
       "      <td>1971</td>\n",
       "      <td>2.62818</td>\n",
       "      <td>96.0898</td>\n",
       "    </tr>\n",
       "    <tr>\n",
       "      <th>11</th>\n",
       "      <td>Prov. Nanggroe Aceh Darussalam</td>\n",
       "      <td>1101</td>\n",
       "      <td>Kab. Simeulue</td>\n",
       "      <td>Tamat SD</td>\n",
       "      <td>9545</td>\n",
       "      <td>10545</td>\n",
       "      <td>2.62818</td>\n",
       "      <td>96.0898</td>\n",
       "    </tr>\n",
       "    <tr>\n",
       "      <th>11</th>\n",
       "      <td>Prov. Nanggroe Aceh Darussalam</td>\n",
       "      <td>1101</td>\n",
       "      <td>Kab. Simeulue</td>\n",
       "      <td>Tamat SLTP</td>\n",
       "      <td>6733</td>\n",
       "      <td>6100</td>\n",
       "      <td>2.62818</td>\n",
       "      <td>96.0898</td>\n",
       "    </tr>\n",
       "    <tr>\n",
       "      <th>11</th>\n",
       "      <td>Prov. Nanggroe Aceh Darussalam</td>\n",
       "      <td>1101</td>\n",
       "      <td>Kab. Simeulue</td>\n",
       "      <td>Tamat SLTA</td>\n",
       "      <td>6945</td>\n",
       "      <td>4448</td>\n",
       "      <td>2.62818</td>\n",
       "      <td>96.0898</td>\n",
       "    </tr>\n",
       "    <tr>\n",
       "      <th>11</th>\n",
       "      <td>Prov. Nanggroe Aceh Darussalam</td>\n",
       "      <td>1101</td>\n",
       "      <td>Kab. Simeulue</td>\n",
       "      <td>Tamat PT</td>\n",
       "      <td>2043</td>\n",
       "      <td>1777</td>\n",
       "      <td>2.62818</td>\n",
       "      <td>96.0898</td>\n",
       "    </tr>\n",
       "  </tbody>\n",
       "</table>\n",
       "</div>"
      ],
      "text/plain": [
       "                           province name  city code      city name  \\\n",
       "province                                                             \n",
       "11        Prov. Nanggroe Aceh Darussalam       1101  Kab. Simeulue   \n",
       "11        Prov. Nanggroe Aceh Darussalam       1101  Kab. Simeulue   \n",
       "11        Prov. Nanggroe Aceh Darussalam       1101  Kab. Simeulue   \n",
       "11        Prov. Nanggroe Aceh Darussalam       1101  Kab. Simeulue   \n",
       "11        Prov. Nanggroe Aceh Darussalam       1101  Kab. Simeulue   \n",
       "\n",
       "               education level  male  female  latitude  longitude  \n",
       "province                                                           \n",
       "11        Tidak/Belum Tamat SD  1209    1971   2.62818    96.0898  \n",
       "11                    Tamat SD  9545   10545   2.62818    96.0898  \n",
       "11                  Tamat SLTP  6733    6100   2.62818    96.0898  \n",
       "11                  Tamat SLTA  6945    4448   2.62818    96.0898  \n",
       "11                    Tamat PT  2043    1777   2.62818    96.0898  "
      ]
     },
     "execution_count": 5,
     "metadata": {},
     "output_type": "execute_result"
    }
   ],
   "source": [
    "indonesia_education.head()"
   ]
  },
  {
   "cell_type": "markdown",
   "metadata": {},
   "source": [
    "goals:\n",
    "1. combine counts of male and female \n",
    "2. group combinded counts by education level\n",
    "3. group combined counts by province name and education level\n",
    "4. group combined counts by city name and education level"
   ]
  },
  {
   "cell_type": "markdown",
   "metadata": {},
   "source": [
    "* make a new variable (\"total\") that is a sum of males and females in a education category (by row)\n",
    "    1. find the unique values of education \n",
    "    2. create dataframes that subset by level of education "
   ]
  },
  {
   "cell_type": "code",
   "execution_count": 6,
   "metadata": {
    "collapsed": false
   },
   "outputs": [
    {
     "data": {
      "text/plain": [
       "array(['Tidak/Belum Tamat SD', 'Tamat SD', 'Tamat SLTP', 'Tamat SLTA',\n",
       "       'Tamat PT'], dtype=object)"
      ]
     },
     "execution_count": 6,
     "metadata": {},
     "output_type": "execute_result"
    }
   ],
   "source": [
    "indonesia_education[\"education level\"].unique()"
   ]
  },
  {
   "cell_type": "code",
   "execution_count": 7,
   "metadata": {
    "collapsed": true
   },
   "outputs": [],
   "source": [
    "indonesia_education[\"total\"] = indonesia_education[\"male\"]+indonesia_education[\"female\"]"
   ]
  },
  {
   "cell_type": "code",
   "execution_count": 8,
   "metadata": {
    "collapsed": false
   },
   "outputs": [
    {
     "data": {
      "text/html": [
       "<div>\n",
       "<table border=\"1\" class=\"dataframe\">\n",
       "  <thead>\n",
       "    <tr style=\"text-align: right;\">\n",
       "      <th></th>\n",
       "      <th>province name</th>\n",
       "      <th>city code</th>\n",
       "      <th>city name</th>\n",
       "      <th>education level</th>\n",
       "      <th>male</th>\n",
       "      <th>female</th>\n",
       "      <th>latitude</th>\n",
       "      <th>longitude</th>\n",
       "      <th>total</th>\n",
       "    </tr>\n",
       "    <tr>\n",
       "      <th>province</th>\n",
       "      <th></th>\n",
       "      <th></th>\n",
       "      <th></th>\n",
       "      <th></th>\n",
       "      <th></th>\n",
       "      <th></th>\n",
       "      <th></th>\n",
       "      <th></th>\n",
       "      <th></th>\n",
       "    </tr>\n",
       "  </thead>\n",
       "  <tbody>\n",
       "    <tr>\n",
       "      <th>11</th>\n",
       "      <td>Prov. Nanggroe Aceh Darussalam</td>\n",
       "      <td>1101</td>\n",
       "      <td>Kab. Simeulue</td>\n",
       "      <td>Tidak/Belum Tamat SD</td>\n",
       "      <td>1209</td>\n",
       "      <td>1971</td>\n",
       "      <td>2.62818</td>\n",
       "      <td>96.0898</td>\n",
       "      <td>3180</td>\n",
       "    </tr>\n",
       "    <tr>\n",
       "      <th>11</th>\n",
       "      <td>Prov. Nanggroe Aceh Darussalam</td>\n",
       "      <td>1101</td>\n",
       "      <td>Kab. Simeulue</td>\n",
       "      <td>Tamat SD</td>\n",
       "      <td>9545</td>\n",
       "      <td>10545</td>\n",
       "      <td>2.62818</td>\n",
       "      <td>96.0898</td>\n",
       "      <td>20090</td>\n",
       "    </tr>\n",
       "    <tr>\n",
       "      <th>11</th>\n",
       "      <td>Prov. Nanggroe Aceh Darussalam</td>\n",
       "      <td>1101</td>\n",
       "      <td>Kab. Simeulue</td>\n",
       "      <td>Tamat SLTP</td>\n",
       "      <td>6733</td>\n",
       "      <td>6100</td>\n",
       "      <td>2.62818</td>\n",
       "      <td>96.0898</td>\n",
       "      <td>12833</td>\n",
       "    </tr>\n",
       "    <tr>\n",
       "      <th>11</th>\n",
       "      <td>Prov. Nanggroe Aceh Darussalam</td>\n",
       "      <td>1101</td>\n",
       "      <td>Kab. Simeulue</td>\n",
       "      <td>Tamat SLTA</td>\n",
       "      <td>6945</td>\n",
       "      <td>4448</td>\n",
       "      <td>2.62818</td>\n",
       "      <td>96.0898</td>\n",
       "      <td>11393</td>\n",
       "    </tr>\n",
       "    <tr>\n",
       "      <th>11</th>\n",
       "      <td>Prov. Nanggroe Aceh Darussalam</td>\n",
       "      <td>1101</td>\n",
       "      <td>Kab. Simeulue</td>\n",
       "      <td>Tamat PT</td>\n",
       "      <td>2043</td>\n",
       "      <td>1777</td>\n",
       "      <td>2.62818</td>\n",
       "      <td>96.0898</td>\n",
       "      <td>3820</td>\n",
       "    </tr>\n",
       "  </tbody>\n",
       "</table>\n",
       "</div>"
      ],
      "text/plain": [
       "                           province name  city code      city name  \\\n",
       "province                                                             \n",
       "11        Prov. Nanggroe Aceh Darussalam       1101  Kab. Simeulue   \n",
       "11        Prov. Nanggroe Aceh Darussalam       1101  Kab. Simeulue   \n",
       "11        Prov. Nanggroe Aceh Darussalam       1101  Kab. Simeulue   \n",
       "11        Prov. Nanggroe Aceh Darussalam       1101  Kab. Simeulue   \n",
       "11        Prov. Nanggroe Aceh Darussalam       1101  Kab. Simeulue   \n",
       "\n",
       "               education level  male  female  latitude  longitude  total  \n",
       "province                                                                  \n",
       "11        Tidak/Belum Tamat SD  1209    1971   2.62818    96.0898   3180  \n",
       "11                    Tamat SD  9545   10545   2.62818    96.0898  20090  \n",
       "11                  Tamat SLTP  6733    6100   2.62818    96.0898  12833  \n",
       "11                  Tamat SLTA  6945    4448   2.62818    96.0898  11393  \n",
       "11                    Tamat PT  2043    1777   2.62818    96.0898   3820  "
      ]
     },
     "execution_count": 8,
     "metadata": {},
     "output_type": "execute_result"
    }
   ],
   "source": [
    "indonesia_education.head()"
   ]
  },
  {
   "cell_type": "markdown",
   "metadata": {},
   "source": [
    "* we can use pandas group by to aggregate sums"
   ]
  },
  {
   "cell_type": "code",
   "execution_count": 9,
   "metadata": {
    "collapsed": false
   },
   "outputs": [],
   "source": [
    "education_groups = indonesia_education.groupby(indonesia_education[\"education level\"])[\"total\"].sum()"
   ]
  },
  {
   "cell_type": "code",
   "execution_count": 10,
   "metadata": {
    "collapsed": false
   },
   "outputs": [
    {
     "data": {
      "text/plain": [
       "education level\n",
       "Tamat PT                11194347\n",
       "Tamat SD                56113017\n",
       "Tamat SLTA              40310023\n",
       "Tamat SLTP              35006186\n",
       "Tidak/Belum Tamat SD    12107698\n",
       "Name: total, dtype: int64"
      ]
     },
     "execution_count": 10,
     "metadata": {},
     "output_type": "execute_result"
    }
   ],
   "source": [
    "education_groups"
   ]
  },
  {
   "cell_type": "markdown",
   "metadata": {},
   "source": [
    "* or we can use .loc to subset the dataframe to only include the value of education we are concerned with"
   ]
  },
  {
   "cell_type": "code",
   "execution_count": 11,
   "metadata": {
    "collapsed": false
   },
   "outputs": [],
   "source": [
    "belum_tamat_sd_df = indonesia_education.loc[indonesia_education[\"education level\"]==\"Tidak/Belum Tamat SD\"]\n",
    "tamat_sd_df = indonesia_education.loc[indonesia_education[\"education level\"]==\"Tamat SD\"]\n",
    "tamat_sltp_df = indonesia_education.loc[indonesia_education[\"education level\"]==\"Tamat SLTP\"]\n",
    "tamat_slta_df = indonesia_education.loc[indonesia_education[\"education level\"]==\"Tamat SLTA\"]\n",
    "tamat_pt_df = indonesia_education.loc[indonesia_education[\"education level\"]==\"Tamat PT\"]"
   ]
  },
  {
   "cell_type": "code",
   "execution_count": 12,
   "metadata": {
    "collapsed": false
   },
   "outputs": [
    {
     "data": {
      "text/html": [
       "<div>\n",
       "<table border=\"1\" class=\"dataframe\">\n",
       "  <thead>\n",
       "    <tr style=\"text-align: right;\">\n",
       "      <th></th>\n",
       "      <th>province name</th>\n",
       "      <th>city code</th>\n",
       "      <th>city name</th>\n",
       "      <th>education level</th>\n",
       "      <th>male</th>\n",
       "      <th>female</th>\n",
       "      <th>latitude</th>\n",
       "      <th>longitude</th>\n",
       "      <th>total</th>\n",
       "    </tr>\n",
       "    <tr>\n",
       "      <th>province</th>\n",
       "      <th></th>\n",
       "      <th></th>\n",
       "      <th></th>\n",
       "      <th></th>\n",
       "      <th></th>\n",
       "      <th></th>\n",
       "      <th></th>\n",
       "      <th></th>\n",
       "      <th></th>\n",
       "    </tr>\n",
       "  </thead>\n",
       "  <tbody>\n",
       "    <tr>\n",
       "      <th>11</th>\n",
       "      <td>Prov. Nanggroe Aceh Darussalam</td>\n",
       "      <td>1101</td>\n",
       "      <td>Kab. Simeulue</td>\n",
       "      <td>Tidak/Belum Tamat SD</td>\n",
       "      <td>1209</td>\n",
       "      <td>1971</td>\n",
       "      <td>2.62818</td>\n",
       "      <td>96.0898</td>\n",
       "      <td>3180</td>\n",
       "    </tr>\n",
       "    <tr>\n",
       "      <th>11</th>\n",
       "      <td>Prov. Nanggroe Aceh Darussalam</td>\n",
       "      <td>1102</td>\n",
       "      <td>Kab. Aceh Singkil</td>\n",
       "      <td>Tidak/Belum Tamat SD</td>\n",
       "      <td>3407</td>\n",
       "      <td>4251</td>\n",
       "      <td>2.43900</td>\n",
       "      <td>97.9244</td>\n",
       "      <td>7658</td>\n",
       "    </tr>\n",
       "    <tr>\n",
       "      <th>11</th>\n",
       "      <td>Prov. Nanggroe Aceh Darussalam</td>\n",
       "      <td>1103</td>\n",
       "      <td>Kab. Aceh Selatan</td>\n",
       "      <td>Tidak/Belum Tamat SD</td>\n",
       "      <td>4722</td>\n",
       "      <td>5974</td>\n",
       "      <td>3.25638</td>\n",
       "      <td>97.2130</td>\n",
       "      <td>10696</td>\n",
       "    </tr>\n",
       "    <tr>\n",
       "      <th>11</th>\n",
       "      <td>Prov. Nanggroe Aceh Darussalam</td>\n",
       "      <td>1104</td>\n",
       "      <td>Kab. Aceh Tenggara</td>\n",
       "      <td>Tidak/Belum Tamat SD</td>\n",
       "      <td>1925</td>\n",
       "      <td>3215</td>\n",
       "      <td>3.59968</td>\n",
       "      <td>97.6619</td>\n",
       "      <td>5140</td>\n",
       "    </tr>\n",
       "    <tr>\n",
       "      <th>11</th>\n",
       "      <td>Prov. Nanggroe Aceh Darussalam</td>\n",
       "      <td>1105</td>\n",
       "      <td>Kab. Aceh Timur</td>\n",
       "      <td>Tidak/Belum Tamat SD</td>\n",
       "      <td>5746</td>\n",
       "      <td>7243</td>\n",
       "      <td>4.56983</td>\n",
       "      <td>97.7723</td>\n",
       "      <td>12989</td>\n",
       "    </tr>\n",
       "  </tbody>\n",
       "</table>\n",
       "</div>"
      ],
      "text/plain": [
       "                           province name  city code           city name  \\\n",
       "province                                                                  \n",
       "11        Prov. Nanggroe Aceh Darussalam       1101       Kab. Simeulue   \n",
       "11        Prov. Nanggroe Aceh Darussalam       1102   Kab. Aceh Singkil   \n",
       "11        Prov. Nanggroe Aceh Darussalam       1103   Kab. Aceh Selatan   \n",
       "11        Prov. Nanggroe Aceh Darussalam       1104  Kab. Aceh Tenggara   \n",
       "11        Prov. Nanggroe Aceh Darussalam       1105     Kab. Aceh Timur   \n",
       "\n",
       "               education level  male  female  latitude  longitude  total  \n",
       "province                                                                  \n",
       "11        Tidak/Belum Tamat SD  1209    1971   2.62818    96.0898   3180  \n",
       "11        Tidak/Belum Tamat SD  3407    4251   2.43900    97.9244   7658  \n",
       "11        Tidak/Belum Tamat SD  4722    5974   3.25638    97.2130  10696  \n",
       "11        Tidak/Belum Tamat SD  1925    3215   3.59968    97.6619   5140  \n",
       "11        Tidak/Belum Tamat SD  5746    7243   4.56983    97.7723  12989  "
      ]
     },
     "execution_count": 12,
     "metadata": {},
     "output_type": "execute_result"
    }
   ],
   "source": [
    "belum_tamat_sd_df.head()"
   ]
  },
  {
   "cell_type": "code",
   "execution_count": 13,
   "metadata": {
    "collapsed": false
   },
   "outputs": [
    {
     "name": "stdout",
     "output_type": "stream",
     "text": [
      "the total belum tamat sd 12107698\n",
      "the total tamat sd 56113017\n",
      "the total tamat sltp 35006186\n",
      "the total tamat slta 40310023\n",
      "the total tamat pt 11194347\n"
     ]
    }
   ],
   "source": [
    "print(\"the total belum tamat sd %d\" % belum_tamat_sd_df[\"total\"].sum())\n",
    "print(\"the total tamat sd %d\" % tamat_sd_df[\"total\"].sum())\n",
    "print(\"the total tamat sltp %d\" % tamat_sltp_df[\"total\"].sum())\n",
    "print(\"the total tamat slta %d\" % tamat_slta_df[\"total\"].sum())\n",
    "print(\"the total tamat pt %d\" % tamat_pt_df[\"total\"].sum())"
   ]
  },
  {
   "cell_type": "code",
   "execution_count": 14,
   "metadata": {
    "collapsed": false
   },
   "outputs": [
    {
     "name": "stdout",
     "output_type": "stream",
     "text": [
      "the total men with belum tamat sd 5525608\n",
      "the total men with tamat sd 27430862\n",
      "the total men with tamat sltp 18017048\n",
      "the total men with tamat slta 22275190\n",
      "the total men with tamat pt 5735592\n"
     ]
    }
   ],
   "source": [
    "print(\"the total men with belum tamat sd %d\" % belum_tamat_sd_df[\"male\"].sum())\n",
    "print(\"the total men with tamat sd %d\" % tamat_sd_df[\"male\"].sum())\n",
    "print(\"the total men with tamat sltp %d\" % tamat_sltp_df[\"male\"].sum())\n",
    "print(\"the total men with tamat slta %d\" % tamat_slta_df[\"male\"].sum())\n",
    "print(\"the total men with tamat pt %d\" % tamat_pt_df[\"male\"].sum())"
   ]
  },
  {
   "cell_type": "code",
   "execution_count": 15,
   "metadata": {
    "collapsed": false
   },
   "outputs": [
    {
     "name": "stdout",
     "output_type": "stream",
     "text": [
      "the total women with belum tamat sd 6582090\n",
      "the total women with tamat sd 28682155\n",
      "the total women with tamat sltp 16989138\n",
      "the total women with tamat slta 18034833\n",
      "the total women with tamat pt 5458755\n"
     ]
    }
   ],
   "source": [
    "print(\"the total women with belum tamat sd %d\" % belum_tamat_sd_df[\"female\"].sum())\n",
    "print(\"the total women with tamat sd %d\" % tamat_sd_df[\"female\"].sum())\n",
    "print(\"the total women with tamat sltp %d\" % tamat_sltp_df[\"female\"].sum())\n",
    "print(\"the total women with tamat slta %d\" % tamat_slta_df[\"female\"].sum())\n",
    "print(\"the total women with tamat pt %d\" % tamat_pt_df[\"female\"].sum())"
   ]
  },
  {
   "cell_type": "markdown",
   "metadata": {},
   "source": [
    "* for [reference](http://chrisalbon.com/python/pandas_apply_operations_to_groups.html)"
   ]
  },
  {
   "cell_type": "code",
   "execution_count": null,
   "metadata": {
    "collapsed": true
   },
   "outputs": [],
   "source": []
  },
  {
   "cell_type": "code",
   "execution_count": null,
   "metadata": {
    "collapsed": true
   },
   "outputs": [],
   "source": []
  },
  {
   "cell_type": "code",
   "execution_count": null,
   "metadata": {
    "collapsed": true
   },
   "outputs": [],
   "source": []
  }
 ],
 "metadata": {
  "anaconda-cloud": {},
  "kernelspec": {
   "display_name": "Python [Root]",
   "language": "python",
   "name": "Python [Root]"
  },
  "language_info": {
   "codemirror_mode": {
    "name": "ipython",
    "version": 3
   },
   "file_extension": ".py",
   "mimetype": "text/x-python",
   "name": "python",
   "nbconvert_exporter": "python",
   "pygments_lexer": "ipython3",
   "version": "3.5.1"
  }
 },
 "nbformat": 4,
 "nbformat_minor": 0
}
