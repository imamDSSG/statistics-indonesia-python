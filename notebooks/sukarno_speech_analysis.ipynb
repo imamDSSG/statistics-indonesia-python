{
 "cells": [
  {
   "cell_type": "code",
   "execution_count": 1,
   "metadata": {
    "collapsed": true
   },
   "outputs": [],
   "source": [
    "import os\n",
    "import re\n",
    "import urllib2\n",
    "import pandas as pd\n",
    "import graphlab as gl\n",
    "from bps_utils import get_Sukarno_speech, convert_pdf_to_txt"
   ]
  },
  {
   "cell_type": "code",
   "execution_count": 2,
   "metadata": {
    "collapsed": true
   },
   "outputs": [],
   "source": [
    "os.chdir('../data/')"
   ]
  },
  {
   "cell_type": "code",
   "execution_count": 3,
   "metadata": {
    "collapsed": false
   },
   "outputs": [
    {
     "name": "stdout",
     "output_type": "stream",
     "text": [
      "('sukarno_speech.pdf', 'already exists')\n"
     ]
    }
   ],
   "source": [
    "get_Sukarno_speech()"
   ]
  },
  {
   "cell_type": "code",
   "execution_count": 4,
   "metadata": {
    "collapsed": false
   },
   "outputs": [],
   "source": [
    "sukarno_speech = convert_pdf_to_txt('sukarno_speech.pdf')"
   ]
  },
  {
   "cell_type": "code",
   "execution_count": 5,
   "metadata": {
    "collapsed": false
   },
   "outputs": [
    {
     "data": {
      "text/plain": [
       "'Your Excellencies,Ladies and Gentlemen, Sisters and Brothers.It is my great honour and privilege on this historic day to bid you welcome to Indonesia. On behalf of the people and government of Indonesia - your hosts - I beg your understanding and forbearance if some circumstances in our country do not meet your expectation. We have, I assure you, done our best to make your stay amongst us memorable for both our guests and your hosts. We hope that the warmth of our welcome will compensate for whatever material shortcomings there may be.As I survey this hall and the distinguished guests gathered here, my heart is filled with emotion. This is the first intercontinental conference of coloured peoples in the history of mankind! I am proud that my country is your host. I am happy that you were able to accept the invitations extended by '"
      ]
     },
     "execution_count": 5,
     "metadata": {},
     "output_type": "execute_result"
    }
   ],
   "source": [
    "sukarno_speech[1167:2009]"
   ]
  },
  {
   "cell_type": "code",
   "execution_count": 6,
   "metadata": {
    "collapsed": false
   },
   "outputs": [],
   "source": [
    "d = {'col1': sukarno_speech}\n",
    "index= [1]\n",
    "df = pd.DataFrame(data = d, index = index)"
   ]
  },
  {
   "cell_type": "code",
   "execution_count": 7,
   "metadata": {
    "collapsed": true
   },
   "outputs": [],
   "source": [
    "BASE_DIR = \"~/repos/statistics-indonesia-python/sentiment_analysis/data\" "
   ]
  },
  {
   "cell_type": "markdown",
   "metadata": {},
   "source": [
    "for more info on text analysis with turi sframes see this [documentation](https://turi.com/learn/userguide/text/intro.html)"
   ]
  },
  {
   "cell_type": "code",
   "execution_count": 8,
   "metadata": {
    "collapsed": false
   },
   "outputs": [
    {
     "name": "stderr",
     "output_type": "stream",
     "text": [
      "[INFO] graphlab.cython.cy_server: GraphLab Create v2.1 started. Logging: /tmp/graphlab_server_1469837069.log\n"
     ]
    },
    {
     "name": "stdout",
     "output_type": "stream",
     "text": [
      "This non-commercial license of GraphLab Create for academic use is assigned to kpolimis@u.washington.edu and will expire on July 29, 2017.\n"
     ]
    }
   ],
   "source": [
    "sf = gl.SFrame(data=df)\n",
    "sf.save(\"%s/sukarno.sframe\" % BASE_DIR)"
   ]
  },
  {
   "cell_type": "code",
   "execution_count": 9,
   "metadata": {
    "collapsed": false
   },
   "outputs": [
    {
     "data": {
      "text/plain": [
       "dtype: dict\n",
       "Rows: 1\n",
       "[{'united,': 2, 'dynamic': 1, 'holders.': 1, 'protest': 1, 'sleep': 1, 'asian': 11, 'assembled': 2, 'whose': 3, 'skill?': 1, 'common.': 1, 'superficially': 1, 'neighbours': 1, 'under': 4, 'pride': 1, 'applied': 1, 'rescue': 1, 'oceans': 2, 'bhinneka': 1, 'colonialism?': 1, 'colonialism\"': 1, 'affairs.': 1, 'affairs,': 2, 'asia,': 1, 'today.': 2, 'today,': 1, 'colonialism.': 3, 'colonialism,': 1, 'pooled': 1, 'dangerously.in': 1, 'skills': 1, 'problems,': 3, 'ocean,': 1, 'unifying': 1, 'force': 2, 'leaders': 5, 'me,': 1, 'second': 1, \"others'\": 1, 'others,': 1, 'others.': 1, 'even': 10, 'colonialism': 8, 'deliberate': 1, 'terms,': 1, 'asia': 21, 'characters,': 1, 'toll': 1, 'new': 12, 'seeks': 2, 'told': 1, 'beliefs,': 3, 'men': 4, 'sukarno': 3, 'here': 11, 'met': 1, 'china': 1, 'represented': 2, 'obtained': 1, 'property': 1, 'Çri': 1, 'leaves': 1, 'be.as': 1, 'military': 1, 'settled': 2, 'divide': 1, 'feelings': 1, 'brought': 1, 'war,': 1, 'moral': 3, 'guests': 2, 'sympathise': 1, 'spoke': 1, 'would': 6, 'nation.so,': 1, 'seventy': 1, 'statesmanship': 1, 'call': 1, 'strike': 1, 'used,': 1, 'until': 1, 'breathe': 1, 'successful': 3, 'brings': 1, 'skill,': 1, 'success!yes,': 1, 'warm': 1, 'hold': 1, 'must': 7, 'word': 1, 'society,': 1, 'rights': 4, 'imperialism': 1, 'my': 10, 'monarchism,': 1, 'give': 10, 'preserving': 1, 'india': 1, 'end': 3, 'knows': 1, 'turn': 1, 'life-line,': 1, 'travel': 1, 'how': 6, 'harmony,': 1, 'colonies,': 1, 'answer': 2, 'wisdom.i': 1, \"desmoulin's\": 1, 'minority': 1, 'asia-africa.': 1, 'weapons\"': 1, 'sikhism,': 1, '\"live': 4, 'splendid': 1, 'peace.if': 1, 'appreciate': 1, 'ultimate': 1, 'every': 5, 'birthplaces': 2, 'tribulations': 2, 'bombers.what': 1, 'over': 4, 'encounter': 1, '\"life-line': 1, 'concepts,': 1, 'before': 4, 'lifeline': 1, 'recognised': 1, 'succeeds': 2, 'then?': 2, 'then': 7, 'troops.instead': 1, 'similar': 1, 'history,': 1, 'history.': 2, 'caption:': 1, 'effects': 1, 'they': 15, 'indulge': 1, 'one': 13, 'units,': 1, 'secured.': 1, 'several': 1, 'indivisible.': 1, 'backgrounds': 1, 'religions,': 1, 'expectation.': 1, 'victory': 1, 'each': 14, 'went': 1, 'side': 2, 'mean': 3, 'observance': 1, 'network': 1, 'god': 4, 'particles': 1, 'detestation': 2, 'independence': 10, 'threatened': 1, 'little': 8, 'free': 4, 'principle,': 1, 'struggle': 6, 'enormous': 1, 'mankind,': 1, 'tolerant': 2, 'creeds.': 1, 'oppose': 3, \"today's\": 1, '1955)your': 1, 'already': 2, 'too.': 1, 'primary': 1, 'fears,': 1, 'another': 1, 'power.': 1, 'lest,': 1, 'nation.': 1, 'aconference': 1, 'too': 1, 'mankind!': 1, 'bitter': 2, 'easy.': 1, 'so,': 1, 'wisdom': 1, 'showed': 1, 'gibraltar,': 1, 'nations': 15, 'project': 1, 'matter': 2, 'to,': 1, 'spears.': 1, 'modern': 1, 'mind': 2, 'ultimatum,': 1, 'seen': 4, 'participants,': 1, 'seek': 2, 'affairs': 3, 'strength': 6, 'do,': 1, 'world.no': 1, '-': 29, 'asians?': 1, 'do?': 2, 'forces': 4, 'hardest.': 1, 'indo-aryan': 1, 'content,': 1, 'shall': 3, 'letter': 1, 'morality': 2, 'mobilised': 1, 'knows.': 1, 'door,': 1, 'principle': 5, 'strong,': 1, 'came': 2, 'saying': 1, 'meetings': 1, 'ending': 1, 'religions': 4, 'cannot,': 2, 'solutions': 2, 'earth': 1, 'consciousness': 1, 'spite': 2, 'guidance': 1, \"indonesia's\": 1, 'do': 10, 'asians': 1, 'religion.': 1, 'listened.': 2, 'religion,': 1, 'runs': 1, 'countries': 12, 'public': 2, 'reawakening': 1, 'bad': 1, 'exacted': 1, 'release': 1, 'them,': 1, 'ethical': 2, 'brothers,': 6, 'swept': 2, 'depends': 1, 'full': 3, 'result': 3, 'discussions': 1, 'best': 1, 'subject': 1, 'cooperation': 1, '?the': 1, 'approach': 1, 'ethics.': 1, 'url:': 1, 'preserve': 1, 'we': 71, 'never': 2, 'terms': 1, 'nature': 1, 'however': 2, 'reproduction,': 1, 'drew': 1, 'conflagration': 1, 'defiance': 1, '\"conventional': 1, 'motto': 2, 'distant.': 1, 'faced': 1, 'protect': 1, 'fault': 1, 'countries,': 1, 'against': 7, 'propagate.': 1, 'requests': 1, 'confronted': 1, 'asked': 1, 'nay,': 1, 'diversity,': 1, 'skill': 3, 'dreams!we': 1, 'vast': 1, 'diversity\"': 1, 'speak': 5, 'conference': 24, 'debased,': 1, 'basis': 1, 'appears.': 1, 'appears,': 1, 'been': 21, 'grenades,': 1, 'much': 3, 'interest': 1, 'privilege': 1, 'adaptation,': 1, 'warmth': 1, 'duties': 2, 'life': 5, 'born!our': 1, 'ruthlessness.': 1, 'confidence.': 1, 'deliberations': 1, 'evermore.yes,': 1, 'east': 2, 'doorstep,': 1, 'air': 1, 'voice': 3, 'japan.': 1, 'worse,': 1, 'seven': 1, 'is': 85, 'it': 55, 'straits': 1, 'in': 98, 'march': 1, 'dead\".': 1, 'if': 6, 'deliberations,': 1, 'things': 4, 'make': 5, 'colonies': 1, 'passed,': 1, 'independent': 2, 'evil': 2, 'hand': 1, 'marched': 1, 'faiths': 2, 'thoughts': 2, 'degradation,': 1, 'greatest': 1, 'thing,': 1, 'the': 308, '\"colonialism': 1, '\"sturm': 1, 'just': 2, 'true': 2, 'human': 4, 'yet': 8, 'previous': 1, 'had': 5, 'passive': 1, 'spread': 2, 'perverted.': 1, 'has': 25, 'humanity': 1, 'gave': 1, 'ago,': 2, 'ago.': 1, 'fact,': 1, 'survival': 1, 'possible': 3, 'cultural': 2, 'god,': 2, 'causes,': 2, 'states,': 1, 'country.': 1, 'country,': 1, 'steps': 1, 'copyright:': 1, 'towards': 1, 'right': 2, 'people': 5, 'born': 1, 'insistence': 1, 'dear': 1, 'meaning.': 1, 'pancha': 1, 'denies': 1, 'gasps': 1, 'for': 44, '/': 8, 'everything': 1, 'denied': 1, 'subordination': 1, 'asia-africa': 2, 'decisions': 1, 'losing': 1, 'memorable': 1, 'conclusion.': 1, 'ensure': 2, 'done': 1, 'considerations': 1, 'raised': 1, 'presence': 1, 'intellectual': 3, 'lies': 1, 'doctrine': 1, 'central-sumatrans,': 1, 'support': 2, 'sovereign': 2, 'fight': 3, 'jainism,': 1, 'fought': 1, 'way': 3, 'was': 20, 'war': 5, 'happy': 1, 'form': 3, 'racialism.': 1, 'statement:': 1, 'ah,': 1, 'failure': 1, 'consideration.': 1, 'hall,': 1, 'invincible': 1, 'economic': 4, 'faiths.': 1, 'faiths,': 1, 'examples': 1, 'originating': 1, 'solong': 1, 'proved': 1, 'classic': 2, 'evidence': 2, 'excellencies,ladies': 1, 'meeting\".': 1, 'physical': 2, 'afternoon-tea': 1, 'no': 17, 'minds,': 1, 'generally': 1, 'republic': 2, 'picture': 2, 'brothers': 1, 'welcome': 4, 'stick.': 1, 'understands,': 1, 'younger': 1, 'longer': 2, 'motives.how': 1, 'together': 5, 'time': 1, 'chain': 1, 'diplomacy': 1, 'skin': 1, 'battle': 3, 'soothed': 1, 'certainly': 1, '1949': 1, 'depend': 1, 'djakarta:': 1, 'chances': 1, 'finally': 1, 'bombs,': 2, 'marks': 1, 'circumstances': 1, 'advantage': 1, 'worthwhile,': 1, 'responsibility,': 1, 'individuality,': 1, 'mobilise': 2, 'locked': 1, 'presented': 1, 'mark,': 1, 'determination,': 1, 'sila.': 1, 'spiritual': 2, 'regret': 1, 'obsolete': 1, 'favour': 1, 'enhanced.that,': 1, 'international': 1, 'beleaguered,': 1, 'filled': 2, 'drink,': 1, 'supporting': 1, 'capitalism,': 1, 'honour': 3, 'understanding': 7, 'water': 1, 'twentieth': 1, 'groups': 1, 'address': 2, 'along': 1, 'appears': 1, 'change': 1, 'thirty': 1, 'reborn,': 1, 'marhaenism,': 1, 'bomb,': 1, 'usually': 1, '1,400,000,000': 1, 'unregarded,': 1, 'troops': 1, 'sake': 1, 'by': 36, 'territories': 1, 'live': 3, 'today': 11, 'chasms': 1, 'club': 1, 'gentlemen,': 1, 'moral,': 1, 'behalf': 2, 'and,': 2, 'can': 23, 'stature': 2, 'making': 1, 'life-blood': 1, 'imitation': 1, 'heart': 1, 'december': 1, 'malayans,': 1, 'allowed': 2, 'hydrogen': 1, 'africa;': 1, 'etches': 1, 'secured': 1, \"journey's\": 1, 'innumerable': 1, '1': 1, 'future,': 1, 'africa,': 3, 'future.': 1, 'reluctantly,': 1, 'über': 1, 'professing': 1, 'may': 13, 'matter.but': 1, 'eighty': 2, 'mankind': 5, 'such': 6, 'man': 11, 'different.': 3, 'different,': 1, 'whenever': 1, 'maybe': 1, 'futures': 1, 'darkened': 1, 'so': 14, 'african': 7, 'controlling.': 1, 'exclusive': 2, 'no.': 1, 'indeed': 2, 'midnight': 2, 'no!': 1, 'years': 7, 'stability': 1, 'argued': 1, 'still': 4, 'clash,': 1, 'thank': 1, 'torn': 1, 'dead.': 1, 'dead,': 1, 'won,': 1, 'main': 1, 'battlefield.': 1, 'horror.not': 1, 'concerned.': 1, 'newly-recovered': 1, 'nation': 3, 'records': 1, 'corroded': 1, 'half': 3, 'not': 44, 'solidarity,': 1, 'discuss': 1, 'nor': 5, 'madurese,': 1, 'realise': 2, 'revere': 1, 'motherland': 1, 'paramount,': 1, 'morality.perhaps': 1, 'uninhibited': 1, 'therefore,': 1, 'year': 1, 'small.': 1, 'physical,': 1, 'living': 1, 'shown': 1, 'yes,': 4, 'profit': 1, 'increase': 1, 'dead.so,': 1, 'multiformity': 1, 'million': 1, 'quite': 1, 'unfriendly': 1, 'evermore,': 1, 'inevitable': 1, 'evermore.': 1, 'care': 1, 'interference,': 1, 'ministry': 1, 'colonialism.and': 1, 'dangerof': 1, 'british': 1, 'thing': 2, 'place': 3, 'massive': 1, 'invitation': 1, 'unborn': 2, 'think': 5, 'first': 6, 'besieged': 1, 'but,': 1, 'long': 9, 'president': 2, 'message': 2, 'discharged': 1, 'disinterested': 5, 'given': 5, 'seas': 1, '2': 1, 'speaking': 1, 'much!': 1, 'eyes': 1, 'that': 83, 'spoke,': 1, 'behoves': 1, 'released': 1, 'freedomis': 1, 'them.indeed,': 1, 'than': 10, 'population': 1, '18': 3, 'b27b8581a4f5.html': 1, 'future': 2, 'were': 20, 'and': 205, 'sad': 1, \"humanity's\": 1, 'say': 6, 'distorted': 1, 'any': 5, 'terrific': 1, 'take': 4, 'negligible': 1, 'sure': 1, 'probed': 1, 'price': 1, 'knew': 1, 'pp.': 1, 'rehearsal': 1, 'mediterranean,': 1, 'strength,': 1, 'proud': 2, 'axe': 1, 'not,': 1, 'dispersed': 1, 'cooperation.': 1, 'fifty': 1, 'discovered': 1, 'colours': 1, 'proclamation': 1, '3': 1, 'liberation': 2, 'only': 9, 'going': 1, 'injustice': 1, 'get': 1, 'cannon': 1, 'truly': 1, 'unimportant': 1, 'cannot': 6, 'central-javanese,': 1, 'prime': 4, 'regarding': 1, 'miles': 2, 'where': 1, 'physically': 1, 'eighteenth': 1, 'threats.': 1, 'declares': 1, 'job.': 1, 'concern': 2, 'unfree.': 2, 'unfree,': 1, 'ways': 2, 'representatives': 3, 'weapons': 1, 'behind': 1, 'between': 1, 'mission,': 1, 'across': 1, 'notice': 1, 'sea,': 1, 'http://www.cvce.eu/obj/address_given_by_sukarno_bandung_18_april_1955-en-88d3f71c-c9f9-415a-b397-': 1, 'come': 3, 'ago.however': 1, 'many': 15, 'site.': 1, 'easy\".i': 1, 'holders': 1, 'comes': 1, 'duty': 1, 'among': 2, 'period': 1, 'dress,': 1, 'peoples,': 1, 'peoples.': 2, 'thousand': 1, 'formed': 1, 'moreover,': 1, 'spirit': 1, 'those': 5, 'sound': 1, 'myself': 1, 'these': 9, 'ideals,': 1, 'danger.': 1, 'approachof': 1, 'situation': 2, 'toradjas,': 1, 'people\".perhaps': 1, 'eventually': 1, 'engaged': 1, 'condition.yes,': 1, 'different': 4, 'revolutions': 1, 'develop': 1, 'assure': 1, 'pay': 1, 'seeking': 1, 'same': 4, 'followers': 2, 'liberalism': 1, 'extended': 2, 'drives': 1, 'driven': 2, 'internet,': 1, 'conference,': 3, 'conference.': 1, 'mortgaged': 1, 'stunted': 1, 'lit,': 1, 'without': 5, 'very': 4, 'revolution,': 1, 'bodies': 1, 'manifold': 1, 'being': 4, 'when': 8, 'guided': 4, 'certain,': 1, 'fruitful,': 1, 'potentiality': 1, 'speed': 1, 'death': 2, 'either,': 1, 'bloc': 1, '4': 1, 'role': 1, 'possible;': 1, 'omnipotence': 1, 'peace?not': 1, 'delhi': 1, 'world.failure': 1, 'action.': 1, 'world': 17, 'open.': 1, 'dare': 1, 'confine': 1, 'collective': 1, 'nationalawakening': 1, 'lightning': 1, 'benefit': 1, 'fully': 1, 'fulfil': 1, 'opened,': 1, 'burdens': 1, 'wrote:a': 1, 'religions.': 1, 'envoys': 1, 'toleranceand': 1, 'racial': 1, 'destroy.': 1, 'peace,': 2, 'peace.': 6, 'theirs,': 1, 'slight.': 1, 'legal': 1, 'inject': 1, 'think,': 1, 'scientific': 2, 'power': 3, 'passer\"': 1, 'five,': 1, 'colombo,': 1, '19-29.': 1, 'on': 26, 'island': 1, 'violence': 1, 'discussed': 1, 'free.': 1, 'free,': 3, 'or': 14, 'road': 1, 'continent.': 1, 'your': 11, 'dawned': 1, 'strictly': 1, 'there': 15, 'desert': 1, 'you,': 3, 'continents': 5, 'tranquility': 1, 'amongst': 1, 'dynamism.': 1, 'hurricanes': 1, 'land,': 1, 'practically': 1, 'sadness': 1, 'morality?': 1, 'bataks,': 1, 'burdens.sisters': 1, 'majority.and': 1, 'stock.': 1, 'am': 7, 'deep': 1, 'general': 1, 'as': 14, 'at': 9, 'occupied,': 1, 'attendance,': 1, 'again': 5, 'intercontinental': 1, 'neighbouring': 1, '5': 1, 'you': 12, 'everywhere,': 1, 'poor': 1, 'blessing': 2, 'rifles,': 1, 'sacrifices.': 1, 'important': 2, 'itself,': 1, 'recognise': 1, 'building': 1, 'calls': 1, 'solidarity.indeed,': 1, 'bounty.': 1, 'all': 33, 'grind.': 1, 'welfare': 1, 'settlement': 1, 'religious': 2, 'children': 2, 'content': 3, 'referring': 1, 'zoroasthrianism,': 1, 'acting': 1, 'to': 107, 'arabs,': 1, 'far': 5, 'horror': 1, 'coloured': 1, 'blockade': 1, 'sun,': 1, 'broken!': 1, 'large': 2, 'life?': 1, 'peopleswho': 1, 'sought.': 1, 'small': 3, 'longfellow': 1, 'past': 2, 'answer,': 1, 'peoplescould': 1, 'further': 1, 'ourselves,': 1, 'what': 14, 'sun': 1, 'anniversary': 1, 'him.': 1, 'learned': 6, 'common.relatively': 1, 'falsify': 1, 'contrast': 1, 'power-politics': 1, 'christian': 1, 'loose': 1, 'when,': 1, 'life.': 1, 'life,': 2, 'islam,': 1, 'ahead': 1, 'experience': 2, 'emotion.': 1, 'disruption,': 1, 'social': 1, 'action': 1, 'via': 1, 'suddenly': 1, 'theocracy,': 1, 'responded?i': 1, 'africa': 13, 'backed': 1, '\"have': 1, 'contains': 1, 'wield': 1, 'two': 2, 'compensate': 1, '6': 1, 'more': 12, 'fellow': 1, 'globe.': 1, 'site': 1, 'controlling': 1, 'particular': 1, 'known': 1, 'recall': 3, 'abroad:': 1, 'forbearance': 1, 'history': 5, 'lives': 1, 'suggestions': 1, 'accept': 1, 'days': 2, 'states': 2, 'hand-in-hand': 1, 'attain': 1, 'firmly': 1, '!': 1, 'information': 1, 'upbuilding': 1, 'rather': 1, 'anti-colonial': 2, 'comfort': 3, 'eat,': 1, 'civilisation': 1, 'ideologies.': 1, 'state.': 1, 'ethics': 1, 'responsibility.': 1, 'bloom': 1, 'a': 70, 'shortcomings': 1, 'bogor': 1, 'influence.': 1, 'departure': 1, 'responsibility': 1, 'skilful': 1, 'privileges': 1, 'held': 2, 'through': 4, 'committed': 1, 'existence': 1, 'suffer': 1, 'its': 20, 'roots': 1, 'islam': 1, 'pray': 3, 'already.': 1, '29': 1, 'course,': 1, 'discussion,ways': 1, 'occasion.': 1, 'it,': 3, 'good': 1, 'little.': 1, 'spiritual,': 1, 'food': 1, 'it?': 1, 'walls': 1, 'imperil': 1, 'great.': 1, 'guises.': 1, 'imprisoned': 1, 'system.': 1, 'always': 2, 'truths': 1, 'burdens,': 1, 'did': 1, 'found': 2, 'heavy': 3, 'harm': 1, 'england': 1, 'hard': 1, 'house.': 1, 'idea': 1, 'united.as': 1, 'really': 1, 'since': 2, 'participants': 1, 'safety': 3, '7': 1, 'only,but': 1, 'humiliation.': 1, 'socialism,': 1, '!god': 1, 'reason': 1, 'communism,': 1, 'beginning': 1, 'thrown': 1, 'american': 1, 'threat': 2, 'black.': 1, 'sacrifice': 1, 'sundanese,': 1, 'feel': 2, 'dominating': 1, 'changing': 2, 'imperialism\".': 1, 'remember,': 2, 'jet': 1, '180': 1, 'roots.': 1, 'hundred': 3, 'other.': 1, 'instance,': 1, 'appreciation': 2, 'part': 10, 'authors': 2, 'impersonal': 1, 'aims': 2, 'dogs': 1, 'determined': 1, 'host.but': 1, 'wastage': 1, 'declare': 1, 'bandung.': 1, 'exert': 1, 'experience,': 1, 'awoken': 1, 'tanks,': 1, 'lie': 1, 'also': 4, 'labour': 1, 'finding': 1, 'play': 1, 'added': 1, 'most': 2, 'immediate': 2, 'indo-china.i': 1, 'variants.': 1, 'convened': 1, 'clear': 3, 'spreading.': 1, 'forerunner': 1, 'them.in': 1, 'realised': 1, 'particularly': 1, 'demanded,': 1, \"man's\": 2, 'nations,': 3, 'nations.': 1, 'unhappy': 1, '8': 9, 'large,': 1, 'centuries.': 1, 'his': 8, 'asien'\"': 1, 'independence,': 5, 'famous': 1, 'courage': 3, 'actions': 1, 'during': 1, 'necessity.today': 1, 'cry': 1, 'freedom.': 1, 'freedom,': 1, 'sacrifices': 1, 'common': 9, 'activity': 1, 'distant': 2, 'earth.i': 1, 'achieved': 2, 'individual': 2, 'are': 52, 'sea': 2, 'outward': 1, 'smallest': 1, 'years.': 1, \"other's\": 1, 'conditions': 1, 'available': 1, 'recently': 2, 'chamber,': 1, 'attention': 1, 'achieve.': 1, 'ika': 1, 'succeed': 1, 'politics.': 1, 'thatbattle?': 1, 'both': 2, 'last': 3, 'lightly,': 1, 'secrets': 1, 'foreign': 5, 'connection': 1, 'poverty': 3, 'sons:': 1, 'scored.': 1, 'reached.': 1, 'varietyof': 1, 'live\"': 3, 'knew.': 1, 'point': 1, 'sweet': 1, 'whatever': 4, '21/09/2015': 9, 'political': 7, 'whom': 1, 'territory': 1, 'meeting': 3, 'nations!bismillah': 1, 'erected.': 1, 'lived': 1, 'flints': 1, 'success!': 2, 'else': 1, 'understand': 3, 'representative': 1, 'playthings': 1, 'plants': 1, 'look': 2, 'blockaded,': 1, 'loot': 1, 'century': 1, 'itself': 1, 'serried': 1, 'away.': 1, 'away,': 1, 'came,': 1, 'peoples': 20, 'conflict': 2, 'development': 1, 'faire,': 1, 'here,': 2, 'mankind.': 1, 'moment': 3, 'purpose': 2, 'necessity': 1, 'brussels': 1, 'lash.': 1, 'changed,': 1, 'task': 2, 'people,': 2, 'brothers.it': 1, 'analysis': 1, '\"unity': 1, 'indonesia,': 4, 'indonesia.': 1, 'indo-china.look,': 1, 'lives?': 1, 'source:': 1, 'questions': 2, 'lives,': 1, 'matter?': 1, 'unto': 1, 'profitable': 1, 'thoughtlessly,': 1, 'communication,': 1, 'source': 1, 'internal': 1, 'parents': 1, 'questioned': 1, 'longer.': 1, 'indonesian': 2, 'victims': 1, 'big': 1, 'bid': 2, 'we!': 1, 'matters': 2, 'distance.': 1, 'distance,': 1, 'world.yes,': 2, 'knock': 1, 'together.sisters': 1, 'pillar': 1, 'addressed': 1, 'bamboo': 1, 'often': 2, 'cannon,': 1, 'some': 10, 'back': 1, '\"laissez': 1, 'urgent': 1, 'experienced': 1, '\"we': 1, 'curious': 1, 'ourselves': 1, 'irresistible': 1, 'religion': 4, 'bloc.': 1, 'be': 40, 'run': 1, 'authorisation': 1, 'continuing': 1, 'independence.indeed,': 1, 'obscured': 1, 'abroad': 1, 'faith': 1, 'yawn': 1, 'imperialism,': 1, 'democracy,': 1, 'voices,': 1, 'hinduism,': 1, 'into': 5, 'within': 3, 'laissez': 1, 'peoples.however,': 1, 'realisation': 1, 'question': 1, 'amidst': 1, 'heritage': 1, 'forward': 1, 'desires.all': 1, 'reassurance': 1, 'hopes': 1, 'line': 1, 'darkness,': 1, 'alive.we': 1, 'whoare': 1, 'goodwill': 1, 'up': 3, 'us': 24, \"asia's\": 1, 'etc.': 1, 'called': 4, 'conditions,': 1, 'diplomacy,': 1, 'cost.today,': 1, 'problem.': 1, 'consulted': 1, 'warning': 1, 'peace': 5, 'spokesmen': 1, 'themselves.': 1, 'nay': 1, 'problems': 1, 'prepared': 1, 'meaning': 2, 'sides': 1, 'ago': 5, 'reasoned': 1, 'bandung': 1, 'fear.': 3, 'fear,': 2, 'fresh': 2, 'independent.': 1, 'once': 4, 'code': 2, 'issued': 1, 'eradicated': 1, 'alien': 2, 'go': 2, 'considerations.you': 1, 'seemed': 1, 'countryside,': 1, 'wehave': 1, 'more,': 2, 'artery': 1, 'more.': 1, 'help.': 1, 'this': 36, 'us,': 4, 'canal,': 1, 'other,': 4, 'desire?': 1, 'confer.i': 1, 'acid': 1, 'frontiers.': 1, 'that,': 3, 'that.': 1, 'giving': 1, 'tunggal': 1, 'indian': 1, 'independence.': 2, 'capital': 1, 'body': 1, 'desires': 1, 'gathered': 6, 'jointly': 1, 'unfree.and,': 1, 'let': 15, 'others': 5, 'consideration': 1, 'globe.it': 1, 'great': 12, 'technical': 2, 'survey': 3, 'opinion': 1, 'doesits': 1, 'danger': 2, '\"underdeveloped\"': 1, 'tools': 1, 'cloud': 1, 'standing': 1, 'use': 1, 'from': 17, 'remains': 1, 'ministers': 4, 'few': 2, 'doubt': 1, 'themselves': 1, 'forefathers': 1, 'historically': 1, 'hard.': 1, 'impress': 2, 'carrying': 1, 'gladly': 1, '\"to': 1, 'high': 1, '1945,': 1, 'us.': 5, 'ride': 1, 'confer.already': 1, 'of': 274, 'meet': 3, 'rehabilitation': 1, 'control': 4, 'seem.as': 1, 'reserved': 1, 'process': 1, 'rode': 1, 'escaped': 1, 'something': 2, 'united': 5, 'destroying': 1, 'six': 1, 'achenese,': 1, 'regions': 1, 'responsibilities': 3, 'way,in': 1, 'hosts.': 1, 'stock': 1, 'act': 4, 'tortured,': 1, 'moslims,': 1, 'ethnic': 1, 'ties': 1, 'solidarity': 2, 'gone,': 1, 'light': 5, 'struggle.': 2, 'struggle,': 1, 'divided': 2, 'course.what': 1, 'africans': 1, 'existence.': 1, 'mentioned': 1, 'contaminated': 1, 'civa-buddhists,': 1, 'voiceless': 1, 'exiled,': 1, 'restrain': 1, 'world.': 6, 'world,': 4, 'delhi,': 1, 'prosper': 1, 'd'être\",': 1, 'greater': 3, 'practice': 1, 'distant.religion': 1, 'flew': 1, 'invitations': 1, 'stabilise': 1, 'day': 2, 'masters': 1, 'truth': 1, 'shaking': 1, 'doing': 3, 'society': 1, '-how': 1, 'decided,': 1, 'our': 66, 'special': 2, 'out': 4, 'radiance.but': 1, 'colonialism.nor': 1, 'shintoism,': 1, 'men.': 1, 'wholly': 1, '\"league': 1, 'motifs': 1, 'cause': 1, 'time!': 1, 'red': 1, \"one's\": 1, 'delegates': 3, 'completely': 3, 'likelihood': 1, 'things,': 2, 'could': 3, 'diminished': 1, 'keep': 1, 'foolishly,': 1, 'south': 1, 'complete.': 1, 'speaking,': 1, 'echo': 3, 'activity.': 1, 'have,': 1, 'be,': 1, 'bears': 1, 'unknown': 1, 'conventional,': 1, 'relations': 1, 'identity;': 1, 'their': 25, 'final': 1, 'paved': 1, 'interests': 2, 'gathering,': 1, 'hardwon': 1, 'majority,': 1, 'manifestation': 1, 'remember': 3, 'isolation': 1, 'beg': 3, 'threatened.issues': 1, 'distinguished': 2, 'safeguarded': 1, 'wherever,': 1, 'buddhism,': 1, 'poisons': 1, 'have': 47, 'need': 2, 'documents': 1, 'confucianism,': 1, 'indomitable,': 1, 'able': 1, 'asian-african': 7, 'which': 39, 'unless': 5, 'other.if': 1, 'who': 4, 'basis.': 1, '1955)': 1, '1955,': 1, '1955.': 1, 'why': 2, 'so-called': 1, 'statesmen,': 2, 'concern,': 1, 'concern.': 1, 'face': 1, 'looked': 1, 'april,': 1, 'occasion': 1, 'fact': 3, 'christianity,': 1, 'one,': 2, 'purely': 1, 'planning': 1, 'well-being': 3, 'fear': 7, 'darkest': 1, 'true,': 1, 'based': 1, 'sparks': 1, 'with': 17, 'should': 2, 'unsuccessful,': 1, 'won': 2, 'attained': 2, 'thousands': 2, 'updated:': 1, 'hope': 7, 'natural!': 1, 'bonds': 4, 'patterns.': 2, 'unchained': 1, 'bear': 3, 'community': 1, 'ones': 1, 'words': 2, 'christians,': 1, 'suez': 1, 'areas': 1, 'itself.if': 1, 'misguided': 1, 'houses.': 1, 'control,': 2, 'generations': 2, 'deceived': 1, 'exists': 1, 'national': 5, 'end.': 1, 'rather,': 1, 'state': 2, '\"raison': 1, 'progress': 1, 'generations.': 2, 'opening': 1, 'importance': 1, 'unity.': 1, 'large.': 1, 'ideas,': 2, 'precious': 1, 'spirit.i': 1, 'freely': 1, 'invited': 1, 'april': 3, 'grain': 1, 'precedent!': 1, 'glorious': 1, 'diplomats': 1, 'walk': 1, 'together,': 3, 'done,': 1, 'choice,': 1, 'immense': 2, 'poet': 1, 'diversity': 4, 'neighbour': 1, 'an': 12, 'present': 1, 'welcoming': 1, 'decades': 1, 'means': 3, 'will': 25, '(bandung,': 2, 'country': 5, 'almost': 4, 'terrifically': 1, 'countries.': 3, 'earth.the': 1, 'perhaps': 4, 'began': 1, 'buddhist': 1, 'intellectually.it': 1, 'unite': 1, 'these.': 1, 'unity': 4, 'parts': 7, 'outbreak': 1, 'material': 4, 'confrontedwith': 1, 'unconventional': 1, 'upon': 7, 'effect': 1, 'sisters': 5, 'frequently': 1, 'scourges': 1, 'lanka,': 1, '1954': 1, 'i': 39, 'whole': 1, 'colour': 1, 'indonesia': 5, 'well': 1, 'fighting': 3, 'command': 1, 'combinations.but': 1, 'enemy,': 1, 'less': 1, 'only-': 1, '1954.': 1, 'paul': 1, 'liberty.': 1, 'consume': 1, 'web': 1, 'now': 3, 'independence.but': 1, 'host.': 1, 'balinese,': 1, 'hall': 4, 'other': 19, 'skins,': 1, 'developments': 1, 'practise': 1, 'resolved': 1, 'government': 2, 'historic': 2, 'five': 6, 'know': 5, 'burden': 1, 'press': 2, 'better.this': 1, 'mental,': 1, 'issues,': 1, 'necessary': 2, 'like': 1, 'success': 2, 'we,': 2, 'hosts': 1, 'become': 1, 'circumstances.let': 1, 'because': 4, 'neighbours.': 1, 'ideals': 2, 'enlightened,': 1, 'past,': 1, 'avoid': 1, 'does': 2, 'sponsoring': 2, 'brotherhood.': 1, 'easily.': 1, 'about': 4, 'actual': 1, 'extension': 1, 'freedom': 1, 'mine.': 1, 'diabolical': 1, 'happen.': 1, 'outstripped': 1, 'happen,': 1, 'own': 16, 'itself.': 2, 'interdependence': 1, 'live\",': 1, 'problems.for': 1, 'biggest': 1, 'humanity.and': 1, 'but': 17, 'plague': 1, 'highest': 4, 'he': 8, 'made': 7, 'places': 2, 'wish': 1, 'variations': 1, 'pumped': 1, 'demonstrate': 1, 'distribution': 1, 'continents.': 3, 'contribute': 1, 'dissemination': 1, 'undying,': 1, 'diplomat': 1, 'variety': 2, 'onwards': 1, 'again.': 1, 'again,': 1, 'stay': 1, 'inspiration': 1, 'enormouschanges.': 1, 'bulwark': 1, 'ranks': 1, 'determination': 1, 'friendly,': 1, 'confess': 1}]"
      ]
     },
     "execution_count": 9,
     "metadata": {},
     "output_type": "execute_result"
    }
   ],
   "source": [
    "bow = gl.text_analytics.count_words(sf['col1'])\n",
    "bow"
   ]
  },
  {
   "cell_type": "code",
   "execution_count": 10,
   "metadata": {
    "collapsed": false
   },
   "outputs": [
    {
     "data": {
      "text/html": [
       "<div style=\"max-height:1000px;max-width:1500px;overflow:auto;\"><table frame=\"box\" rules=\"cols\">\n",
       "    <tr>\n",
       "        <th style=\"padding-left: 1em; padding-right: 1em; text-align: center\">tokens</th>\n",
       "    </tr>\n",
       "    <tr>\n",
       "        <td style=\"padding-left: 1em; padding-right: 1em; text-align: center; vertical-align: top\">[Address, given, by,<br>Sukarno, (Bandung,, 18, ...</td>\n",
       "    </tr>\n",
       "</table>\n",
       "[1 rows x 1 columns]<br/>\n",
       "</div>"
      ],
      "text/plain": [
       "Columns:\n",
       "\ttokens\tlist\n",
       "\n",
       "Rows: 1\n",
       "\n",
       "Data:\n",
       "+-------------------------------+\n",
       "|             tokens            |\n",
       "+-------------------------------+\n",
       "| [Address, given, by, Sukar... |\n",
       "+-------------------------------+\n",
       "[1 rows x 1 columns]"
      ]
     },
     "execution_count": 10,
     "metadata": {},
     "output_type": "execute_result"
    }
   ],
   "source": [
    "tokenized_speech= gl.SFrame()\n",
    "tokenized_speech['tokens'] = gl.text_analytics.tokenize(sf['col1'])\n",
    "tokenized_speech"
   ]
  },
  {
   "cell_type": "markdown",
   "metadata": {},
   "source": [
    "## Part of Speech Extraction"
   ]
  },
  {
   "cell_type": "code",
   "execution_count": 11,
   "metadata": {
    "collapsed": false
   },
   "outputs": [
    {
     "data": {
      "text/html": [
       "<div style=\"max-height:1000px;max-width:1500px;overflow:auto;\"><table frame=\"box\" rules=\"cols\">\n",
       "    <tr>\n",
       "        <th style=\"padding-left: 1em; padding-right: 1em; text-align: center\">adjectives</th>\n",
       "    </tr>\n",
       "    <tr>\n",
       "        <td style=\"padding-left: 1em; padding-right: 1em; text-align: center; vertical-align: top\">{'ADJ': {'exclusive': 2,<br>'all': 8, 'manifold': 1, ...</td>\n",
       "    </tr>\n",
       "</table>\n",
       "[1 rows x 1 columns]<br/>\n",
       "</div>"
      ],
      "text/plain": [
       "Columns:\n",
       "\tadjectives\tdict\n",
       "\n",
       "Rows: 1\n",
       "\n",
       "Data:\n",
       "+-------------------------------+\n",
       "|           adjectives          |\n",
       "+-------------------------------+\n",
       "| {'ADJ': {'exclusive': 2, '... |\n",
       "+-------------------------------+\n",
       "[1 rows x 1 columns]"
      ]
     },
     "execution_count": 11,
     "metadata": {},
     "output_type": "execute_result"
    }
   ],
   "source": [
    "parts_of_speech = gl.SFrame()\n",
    "parts_of_speech['adjectives'] = gl.text_analytics.extract_parts_of_speech(sf['col1'],chosen_pos=[gl.text_analytics.PartOfSpeech.ADJ])\n",
    "parts_of_speech"
   ]
  },
  {
   "cell_type": "markdown",
   "metadata": {},
   "source": [
    "## Sentence Splitting"
   ]
  },
  {
   "cell_type": "code",
   "execution_count": 12,
   "metadata": {
    "collapsed": false
   },
   "outputs": [
    {
     "data": {
      "text/html": [
       "<div style=\"max-height:1000px;max-width:1500px;overflow:auto;\"><table frame=\"box\" rules=\"cols\">\n",
       "    <tr>\n",
       "        <th style=\"padding-left: 1em; padding-right: 1em; text-align: center\">sent</th>\n",
       "    </tr>\n",
       "    <tr>\n",
       "        <td style=\"padding-left: 1em; padding-right: 1em; text-align: center; vertical-align: top\">[Address given by Sukarno<br>(Bandung, 18 April 19 ...</td>\n",
       "    </tr>\n",
       "</table>\n",
       "[1 rows x 1 columns]<br/>\n",
       "</div>"
      ],
      "text/plain": [
       "Columns:\n",
       "\tsent\tlist\n",
       "\n",
       "Rows: 1\n",
       "\n",
       "Data:\n",
       "+-------------------------------+\n",
       "|              sent             |\n",
       "+-------------------------------+\n",
       "| [Address given by Sukarno ... |\n",
       "+-------------------------------+\n",
       "[1 rows x 1 columns]"
      ]
     },
     "execution_count": 12,
     "metadata": {},
     "output_type": "execute_result"
    }
   ],
   "source": [
    "sentences = gl.SFrame()\n",
    "sentences['sent'] = gl.text_analytics.split_by_sentence(sf['col1'])\n",
    "sentences"
   ]
  },
  {
   "cell_type": "markdown",
   "metadata": {},
   "source": [
    "## Create a topic model"
   ]
  },
  {
   "cell_type": "code",
   "execution_count": 13,
   "metadata": {
    "collapsed": false
   },
   "outputs": [
    {
     "data": {
      "text/html": [
       "<pre>Learning a topic model</pre>"
      ],
      "text/plain": [
       "Learning a topic model"
      ]
     },
     "metadata": {},
     "output_type": "display_data"
    },
    {
     "data": {
      "text/html": [
       "<pre>       Number of documents         1</pre>"
      ],
      "text/plain": [
       "       Number of documents         1"
      ]
     },
     "metadata": {},
     "output_type": "display_data"
    },
    {
     "data": {
      "text/html": [
       "<pre>           Vocabulary size      1413</pre>"
      ],
      "text/plain": [
       "           Vocabulary size      1413"
      ]
     },
     "metadata": {},
     "output_type": "display_data"
    },
    {
     "data": {
      "text/html": [
       "<pre>   Running collapsed Gibbs sampling</pre>"
      ],
      "text/plain": [
       "   Running collapsed Gibbs sampling"
      ]
     },
     "metadata": {},
     "output_type": "display_data"
    },
    {
     "data": {
      "text/html": [
       "<pre>+-----------+---------------+----------------+-----------------+</pre>"
      ],
      "text/plain": [
       "+-----------+---------------+----------------+-----------------+"
      ]
     },
     "metadata": {},
     "output_type": "display_data"
    },
    {
     "data": {
      "text/html": [
       "<pre>| Iteration | Elapsed Time  | Tokens/Second  | Est. Perplexity |</pre>"
      ],
      "text/plain": [
       "| Iteration | Elapsed Time  | Tokens/Second  | Est. Perplexity |"
      ]
     },
     "metadata": {},
     "output_type": "display_data"
    },
    {
     "data": {
      "text/html": [
       "<pre>+-----------+---------------+----------------+-----------------+</pre>"
      ],
      "text/plain": [
       "+-----------+---------------+----------------+-----------------+"
      ]
     },
     "metadata": {},
     "output_type": "display_data"
    },
    {
     "data": {
      "text/html": [
       "<pre>| 10        | 10.36ms       | 1.59122e+06    | 0               |</pre>"
      ],
      "text/plain": [
       "| 10        | 10.36ms       | 1.59122e+06    | 0               |"
      ]
     },
     "metadata": {},
     "output_type": "display_data"
    },
    {
     "data": {
      "text/html": [
       "<pre>+-----------+---------------+----------------+-----------------+</pre>"
      ],
      "text/plain": [
       "+-----------+---------------+----------------+-----------------+"
      ]
     },
     "metadata": {},
     "output_type": "display_data"
    }
   ],
   "source": [
    "docs = gl.text_analytics.count_words(sf['col1'])\n",
    "docs = docs.dict_trim_by_keys(gl.text_analytics.stopwords(), exclude=True)\n",
    "\n",
    "# Learn topic model\n",
    "model = gl.topic_model.create(docs)"
   ]
  },
  {
   "cell_type": "code",
   "execution_count": 14,
   "metadata": {
    "collapsed": false
   },
   "outputs": [
    {
     "name": "stdout",
     "output_type": "stream",
     "text": [
      "+-------+---------------+-----------------+\n",
      "| topic |      word     |      score      |\n",
      "+-------+---------------+-----------------+\n",
      "|   0   |      part     | 0.0317310713164 |\n",
      "|   0   | independence, | 0.0160226201697 |\n",
      "|   0   |    sisters    | 0.0160226201697 |\n",
      "|   0   |     world,    | 0.0128809299403 |\n",
      "|   0   |    highest    | 0.0128809299403 |\n",
      "|   1   |   countries   | 0.0313228061092 |\n",
      "|   1   |     years     | 0.0183794977996 |\n",
      "|   1   |      made     | 0.0183794977996 |\n",
      "|   1   |      hope     | 0.0183794977996 |\n",
      "|   1   |    foreign    | 0.0132021744758 |\n",
      "+-------+---------------+-----------------+\n",
      "[50 rows x 3 columns]\n",
      "Note: Only the head of the SFrame is printed.\n",
      "You can use print_rows(num_rows=m, num_columns=n) to print more rows and columns.\n"
     ]
    }
   ],
   "source": [
    "print model.get_topics()"
   ]
  },
  {
   "cell_type": "code",
   "execution_count": 15,
   "metadata": {
    "collapsed": false
   },
   "outputs": [
    {
     "name": "stdout",
     "output_type": "stream",
     "text": [
      "+-------------------------------+\n",
      "|             words             |\n",
      "+-------------------------------+\n",
      "| [part, sisters, independen... |\n",
      "| [countries, years, made, h... |\n",
      "| [8, african, learned, stre... |\n",
      "| [-, conference, independen... |\n",
      "| [nations, africa, long, po... |\n",
      "| [asia, man, give, 21/09/20... |\n",
      "| [great, common, parts, gat... |\n",
      "| [peoples, world, struggle,... |\n",
      "| [today, asian-african, man... |\n",
      "| [asian, /, understanding, ... |\n",
      "+-------------------------------+\n",
      "[10 rows x 1 columns]\n",
      "\n"
     ]
    }
   ],
   "source": [
    "print model.get_topics(output_type='topic_words')"
   ]
  },
  {
   "cell_type": "code",
   "execution_count": 16,
   "metadata": {
    "collapsed": false
   },
   "outputs": [
    {
     "data": {
      "text/plain": [
       "Class                          : TopicModel\n",
       "\n",
       "Schema\n",
       "------\n",
       "Vocabulary Size                : 1413\n",
       "\n",
       "Settings\n",
       "--------\n",
       "Number of Topics               : 10\n",
       "alpha                          : 5.0\n",
       "beta                           : 0.1\n",
       "Iterations                     : 10\n",
       "Training time                  : 1.0136\n",
       "Verbose                        : False\n",
       "\n",
       "Accessible fields             : \n",
       "m['topics']                   : An SFrame containing the topics.\n",
       "m['vocabulary']               : An SArray containing the words in the vocabulary.\n",
       "Useful methods                : \n",
       "m.get_topics()                : Get the most probable words per topic.\n",
       "m.predict(new_docs)           : Make predictions for new documents."
      ]
     },
     "execution_count": 16,
     "metadata": {},
     "output_type": "execute_result"
    }
   ],
   "source": [
    "model"
   ]
  },
  {
   "cell_type": "code",
   "execution_count": 17,
   "metadata": {
    "collapsed": true
   },
   "outputs": [],
   "source": [
    "#To predict the topic of a given document, one can get an SArray of integers containing the most probable topic ids:\n",
    "\n",
    "pred = model.predict(docs)\n",
    "#Combining the above method with standard SFrame capabilities,\n",
    "#one can use predict to find documents related to a particular topic\n",
    "\n",
    "docs_in_topic_0 = docs[model.predict(docs) == 0]"
   ]
  },
  {
   "cell_type": "code",
   "execution_count": 18,
   "metadata": {
    "collapsed": false
   },
   "outputs": [
    {
     "data": {
      "text/plain": [
       "dtype: array\n",
       "Rows: 1\n",
       "[array('d', [0.07321350284962735, 0.11223147742218326, 0.09907935116177115, 0.1310828583954406, 0.10214818062253397, 0.12099956159579132, 0.08198158702323542, 0.0933800964489259, 0.07496711968434897, 0.11091626479614204])]"
      ]
     },
     "execution_count": 18,
     "metadata": {},
     "output_type": "execute_result"
    }
   ],
   "source": [
    "pred = model.predict(docs, output_type='probability')\n",
    "pred"
   ]
  },
  {
   "cell_type": "code",
   "execution_count": 19,
   "metadata": {
    "collapsed": false
   },
   "outputs": [
    {
     "data": {
      "text/plain": [
       "dtype: str\n",
       "Rows: 1413\n",
       "['!', 'speed', '!god', 'nations!bismillah', 'profitable', 'declare', 'united.as', 'majority.and', \"humanity's\", 'development', 'stunted', 'physical,', 'degradation,', 'bonds', 'liberation', 'solong', 'diminished', 'liberty.', 'sweet', 'remember', 'firmly', 'flints', 'strike', 'deliberations', 'ah,', 'hard.', 'easy.', '\"to', 'sons:', 'rather,', 'subject', 'attain', 'safeguarded', 'yes,', 'evidence', 'afternoon-tea', 'abroad:', 'lie', 'falsify', 'achieve.', 'worthwhile,', 'happen,', 'problems', \"other's\", 'understand', \"indonesia's\", 'making', 'balinese,', 'other.if', 'consideration.', \"others'\", 'profit', 'roots.', 'experience,', 'neighbours.', 'confidence.', 'warm', 'unfriendly', 'born', 'looked', 'world.failure', 'price', 'presence', 'likelihood', 'pillar', 'welfare', 'effect', 'miles', 'harmony,', 'way,in', 'hold', 'discussion,ways', 'recently', 'friendly,', 'condition.yes,', 'brings', 'motives.how', 'diversity\"', 'nation.so,', 'motto', 'god,', 'toradjas,', 'bhinneka', 'madurese,', 'bataks,', 'combinations.but', 'achenese,', 'units,', 'ethnic', 'playthings', 'wehave', 'acting', 'lives,', 'large', 'hardwon', 'bulwark', 'source', 'them,', 'high', 'fulfil', ... ]"
      ]
     },
     "execution_count": 19,
     "metadata": {},
     "output_type": "execute_result"
    }
   ],
   "source": [
    "model['vocabulary']"
   ]
  },
  {
   "cell_type": "code",
   "execution_count": 20,
   "metadata": {
    "collapsed": false
   },
   "outputs": [
    {
     "data": {
      "text/html": [
       "<div style=\"max-height:1000px;max-width:1500px;overflow:auto;\"><table frame=\"box\" rules=\"cols\">\n",
       "    <tr>\n",
       "        <th style=\"padding-left: 1em; padding-right: 1em; text-align: center\">topic_probabilities</th>\n",
       "        <th style=\"padding-left: 1em; padding-right: 1em; text-align: center\">vocabulary</th>\n",
       "    </tr>\n",
       "    <tr>\n",
       "        <td style=\"padding-left: 1em; padding-right: 1em; text-align: center; vertical-align: top\">[0.00345585925228,<br>0.000258866166192, ...</td>\n",
       "        <td style=\"padding-left: 1em; padding-right: 1em; text-align: center; vertical-align: top\">!</td>\n",
       "    </tr>\n",
       "    <tr>\n",
       "        <td style=\"padding-left: 1em; padding-right: 1em; text-align: center; vertical-align: top\">[0.000314169022934,<br>0.000258866166192, ...</td>\n",
       "        <td style=\"padding-left: 1em; padding-right: 1em; text-align: center; vertical-align: top\">speed</td>\n",
       "    </tr>\n",
       "    <tr>\n",
       "        <td style=\"padding-left: 1em; padding-right: 1em; text-align: center; vertical-align: top\">[0.000314169022934,<br>0.00284752782811, ...</td>\n",
       "        <td style=\"padding-left: 1em; padding-right: 1em; text-align: center; vertical-align: top\">!god</td>\n",
       "    </tr>\n",
       "    <tr>\n",
       "        <td style=\"padding-left: 1em; padding-right: 1em; text-align: center; vertical-align: top\">[0.000314169022934,<br>0.000258866166192, ...</td>\n",
       "        <td style=\"padding-left: 1em; padding-right: 1em; text-align: center; vertical-align: top\">nations!bismillah</td>\n",
       "    </tr>\n",
       "    <tr>\n",
       "        <td style=\"padding-left: 1em; padding-right: 1em; text-align: center; vertical-align: top\">[0.000314169022934,<br>0.000258866166192, ...</td>\n",
       "        <td style=\"padding-left: 1em; padding-right: 1em; text-align: center; vertical-align: top\">profitable</td>\n",
       "    </tr>\n",
       "    <tr>\n",
       "        <td style=\"padding-left: 1em; padding-right: 1em; text-align: center; vertical-align: top\">[0.000314169022934,<br>0.000258866166192, ...</td>\n",
       "        <td style=\"padding-left: 1em; padding-right: 1em; text-align: center; vertical-align: top\">declare</td>\n",
       "    </tr>\n",
       "    <tr>\n",
       "        <td style=\"padding-left: 1em; padding-right: 1em; text-align: center; vertical-align: top\">[0.000314169022934,<br>0.000258866166192, ...</td>\n",
       "        <td style=\"padding-left: 1em; padding-right: 1em; text-align: center; vertical-align: top\">united.as</td>\n",
       "    </tr>\n",
       "    <tr>\n",
       "        <td style=\"padding-left: 1em; padding-right: 1em; text-align: center; vertical-align: top\">[0.00345585925228,<br>0.000258866166192, ...</td>\n",
       "        <td style=\"padding-left: 1em; padding-right: 1em; text-align: center; vertical-align: top\">majority.and</td>\n",
       "    </tr>\n",
       "    <tr>\n",
       "        <td style=\"padding-left: 1em; padding-right: 1em; text-align: center; vertical-align: top\">[0.000314169022934,<br>0.000258866166192, ...</td>\n",
       "        <td style=\"padding-left: 1em; padding-right: 1em; text-align: center; vertical-align: top\">humanity's</td>\n",
       "    </tr>\n",
       "    <tr>\n",
       "        <td style=\"padding-left: 1em; padding-right: 1em; text-align: center; vertical-align: top\">[0.000314169022934,<br>0.000258866166192, ...</td>\n",
       "        <td style=\"padding-left: 1em; padding-right: 1em; text-align: center; vertical-align: top\">development</td>\n",
       "    </tr>\n",
       "</table>\n",
       "[1413 rows x 2 columns]<br/>Note: Only the head of the SFrame is printed.<br/>You can use print_rows(num_rows=m, num_columns=n) to print more rows and columns.\n",
       "</div>"
      ],
      "text/plain": [
       "Columns:\n",
       "\ttopic_probabilities\tarray\n",
       "\tvocabulary\tstr\n",
       "\n",
       "Rows: 1413\n",
       "\n",
       "Data:\n",
       "+-------------------------------+-------------------+\n",
       "|      topic_probabilities      |     vocabulary    |\n",
       "+-------------------------------+-------------------+\n",
       "| [0.00345585925228, 0.00025... |         !         |\n",
       "| [0.000314169022934, 0.0002... |       speed       |\n",
       "| [0.000314169022934, 0.0028... |        !god       |\n",
       "| [0.000314169022934, 0.0002... | nations!bismillah |\n",
       "| [0.000314169022934, 0.0002... |     profitable    |\n",
       "| [0.000314169022934, 0.0002... |      declare      |\n",
       "| [0.000314169022934, 0.0002... |     united.as     |\n",
       "| [0.00345585925228, 0.00025... |    majority.and   |\n",
       "| [0.000314169022934, 0.0002... |     humanity's    |\n",
       "| [0.000314169022934, 0.0002... |    development    |\n",
       "+-------------------------------+-------------------+\n",
       "[1413 rows x 2 columns]\n",
       "Note: Only the head of the SFrame is printed.\n",
       "You can use print_rows(num_rows=m, num_columns=n) to print more rows and columns."
      ]
     },
     "execution_count": 20,
     "metadata": {},
     "output_type": "execute_result"
    }
   ],
   "source": [
    "model['topics']"
   ]
  },
  {
   "cell_type": "code",
   "execution_count": 21,
   "metadata": {
    "collapsed": false
   },
   "outputs": [],
   "source": [
    "#As with other models in GraphLab Create, it's also easy to save and load models.\n",
    "\n",
    "model.save('my_model')\n",
    "new_model = gl.load_model('my_model')"
   ]
  },
  {
   "cell_type": "code",
   "execution_count": null,
   "metadata": {
    "collapsed": true
   },
   "outputs": [],
   "source": []
  }
 ],
 "metadata": {
  "anaconda-cloud": {},
  "kernelspec": {
   "display_name": "Python [gl-env]",
   "language": "python",
   "name": "Python [gl-env]"
  },
  "language_info": {
   "codemirror_mode": {
    "name": "ipython",
    "version": 2
   },
   "file_extension": ".py",
   "mimetype": "text/x-python",
   "name": "python",
   "nbconvert_exporter": "python",
   "pygments_lexer": "ipython2",
   "version": "2.7.12"
  }
 },
 "nbformat": 4,
 "nbformat_minor": 0
}
